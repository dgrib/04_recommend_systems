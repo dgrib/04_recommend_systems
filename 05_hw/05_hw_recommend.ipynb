{
 "cells": [
  {
   "cell_type": "markdown",
   "metadata": {},
   "source": [
    "# Сделать грид серч текущей модели"
   ]
  },
  {
   "cell_type": "code",
   "execution_count": 40,
   "metadata": {},
   "outputs": [],
   "source": [
    "import pandas as pd\n",
    "import numpy as np\n",
    "import matplotlib.pyplot as plt\n",
    "%matplotlib inline\n",
    "\n",
    "# Для работы с матрицами\n",
    "from scipy.sparse import csr_matrix, coo_matrix\n",
    "\n",
    "# Матричная факторизация\n",
    "from implicit.als import AlternatingLeastSquares\n",
    "from implicit.nearest_neighbours import bm25_weight, tfidf_weight\n",
    "\n",
    "from lightfm import LightFM\n",
    "from lightfm.evaluation import precision_at_k, recall_at_k\n",
    "\n",
    "# Функции из 1-ого вебинара\n",
    "import os, sys\n",
    "\n",
    "module_path = os.path.abspath(os.path.join(os.pardir))\n",
    "if module_path not in sys.path:\n",
    "    sys.path.append(module_path)\n",
    "    \n",
    "# from src.metrics import precision_at_k, recall_at_k\n",
    "from utils import prefilter_items"
   ]
  },
  {
   "cell_type": "code",
   "execution_count": 41,
   "metadata": {},
   "outputs": [
    {
     "data": {
      "text/html": [
       "<div>\n",
       "<style scoped>\n",
       "    .dataframe tbody tr th:only-of-type {\n",
       "        vertical-align: middle;\n",
       "    }\n",
       "\n",
       "    .dataframe tbody tr th {\n",
       "        vertical-align: top;\n",
       "    }\n",
       "\n",
       "    .dataframe thead th {\n",
       "        text-align: right;\n",
       "    }\n",
       "</style>\n",
       "<table border=\"1\" class=\"dataframe\">\n",
       "  <thead>\n",
       "    <tr style=\"text-align: right;\">\n",
       "      <th></th>\n",
       "      <th>user_id</th>\n",
       "      <th>basket_id</th>\n",
       "      <th>day</th>\n",
       "      <th>item_id</th>\n",
       "      <th>quantity</th>\n",
       "      <th>sales_value</th>\n",
       "      <th>store_id</th>\n",
       "      <th>retail_disc</th>\n",
       "      <th>trans_time</th>\n",
       "      <th>week_no</th>\n",
       "      <th>coupon_disc</th>\n",
       "      <th>coupon_match_disc</th>\n",
       "    </tr>\n",
       "  </thead>\n",
       "  <tbody>\n",
       "    <tr>\n",
       "      <th>0</th>\n",
       "      <td>2375</td>\n",
       "      <td>26984851472</td>\n",
       "      <td>1</td>\n",
       "      <td>1004906</td>\n",
       "      <td>1</td>\n",
       "      <td>1.39</td>\n",
       "      <td>364</td>\n",
       "      <td>-0.6</td>\n",
       "      <td>1631</td>\n",
       "      <td>1</td>\n",
       "      <td>0.0</td>\n",
       "      <td>0.0</td>\n",
       "    </tr>\n",
       "    <tr>\n",
       "      <th>1</th>\n",
       "      <td>2375</td>\n",
       "      <td>26984851472</td>\n",
       "      <td>1</td>\n",
       "      <td>1033142</td>\n",
       "      <td>1</td>\n",
       "      <td>0.82</td>\n",
       "      <td>364</td>\n",
       "      <td>0.0</td>\n",
       "      <td>1631</td>\n",
       "      <td>1</td>\n",
       "      <td>0.0</td>\n",
       "      <td>0.0</td>\n",
       "    </tr>\n",
       "  </tbody>\n",
       "</table>\n",
       "</div>"
      ],
      "text/plain": [
       "   user_id    basket_id  day  item_id  quantity  sales_value  store_id  \\\n",
       "0     2375  26984851472    1  1004906         1         1.39       364   \n",
       "1     2375  26984851472    1  1033142         1         0.82       364   \n",
       "\n",
       "   retail_disc  trans_time  week_no  coupon_disc  coupon_match_disc  \n",
       "0         -0.6        1631        1          0.0                0.0  \n",
       "1          0.0        1631        1          0.0                0.0  "
      ]
     },
     "execution_count": 41,
     "metadata": {},
     "output_type": "execute_result"
    }
   ],
   "source": [
    "data = pd.read_csv('retail_train.csv')\n",
    "\n",
    "item_features = pd.read_csv('product.csv')\n",
    "user_features = pd.read_csv('hh_demographic.csv')\n",
    "\n",
    "# column processing\n",
    "item_features.columns = [col.lower() for col in item_features.columns]\n",
    "user_features.columns = [col.lower() for col in user_features.columns]\n",
    "\n",
    "item_features.rename(columns={'product_id': 'item_id'}, inplace=True)\n",
    "user_features.rename(columns={'household_key': 'user_id'}, inplace=True)\n",
    "\n",
    "# train test split\n",
    "test_size_weeks = 3\n",
    "\n",
    "data_train = data[data['week_no'] < data['week_no'].max() - test_size_weeks]\n",
    "data_test = data[data['week_no'] >= data['week_no'].max() - test_size_weeks]\n",
    "\n",
    "data_train.head(2)"
   ]
  },
  {
   "cell_type": "code",
   "execution_count": 42,
   "metadata": {},
   "outputs": [
    {
     "data": {
      "text/html": [
       "<div>\n",
       "<style scoped>\n",
       "    .dataframe tbody tr th:only-of-type {\n",
       "        vertical-align: middle;\n",
       "    }\n",
       "\n",
       "    .dataframe tbody tr th {\n",
       "        vertical-align: top;\n",
       "    }\n",
       "\n",
       "    .dataframe thead th {\n",
       "        text-align: right;\n",
       "    }\n",
       "</style>\n",
       "<table border=\"1\" class=\"dataframe\">\n",
       "  <thead>\n",
       "    <tr style=\"text-align: right;\">\n",
       "      <th></th>\n",
       "      <th>item_id</th>\n",
       "      <th>manufacturer</th>\n",
       "      <th>department</th>\n",
       "      <th>brand</th>\n",
       "      <th>commodity_desc</th>\n",
       "      <th>sub_commodity_desc</th>\n",
       "      <th>curr_size_of_product</th>\n",
       "    </tr>\n",
       "  </thead>\n",
       "  <tbody>\n",
       "    <tr>\n",
       "      <th>0</th>\n",
       "      <td>25671</td>\n",
       "      <td>2</td>\n",
       "      <td>GROCERY</td>\n",
       "      <td>National</td>\n",
       "      <td>FRZN ICE</td>\n",
       "      <td>ICE - CRUSHED/CUBED</td>\n",
       "      <td>22 LB</td>\n",
       "    </tr>\n",
       "    <tr>\n",
       "      <th>1</th>\n",
       "      <td>26081</td>\n",
       "      <td>2</td>\n",
       "      <td>MISC. TRANS.</td>\n",
       "      <td>National</td>\n",
       "      <td>NO COMMODITY DESCRIPTION</td>\n",
       "      <td>NO SUBCOMMODITY DESCRIPTION</td>\n",
       "      <td></td>\n",
       "    </tr>\n",
       "  </tbody>\n",
       "</table>\n",
       "</div>"
      ],
      "text/plain": [
       "   item_id  manufacturer    department     brand            commodity_desc  \\\n",
       "0    25671             2       GROCERY  National                  FRZN ICE   \n",
       "1    26081             2  MISC. TRANS.  National  NO COMMODITY DESCRIPTION   \n",
       "\n",
       "            sub_commodity_desc curr_size_of_product  \n",
       "0          ICE - CRUSHED/CUBED                22 LB  \n",
       "1  NO SUBCOMMODITY DESCRIPTION                       "
      ]
     },
     "execution_count": 42,
     "metadata": {},
     "output_type": "execute_result"
    }
   ],
   "source": [
    "item_features.head(2)"
   ]
  },
  {
   "cell_type": "code",
   "execution_count": 43,
   "metadata": {},
   "outputs": [
    {
     "data": {
      "text/html": [
       "<div>\n",
       "<style scoped>\n",
       "    .dataframe tbody tr th:only-of-type {\n",
       "        vertical-align: middle;\n",
       "    }\n",
       "\n",
       "    .dataframe tbody tr th {\n",
       "        vertical-align: top;\n",
       "    }\n",
       "\n",
       "    .dataframe thead th {\n",
       "        text-align: right;\n",
       "    }\n",
       "</style>\n",
       "<table border=\"1\" class=\"dataframe\">\n",
       "  <thead>\n",
       "    <tr style=\"text-align: right;\">\n",
       "      <th></th>\n",
       "      <th>age_desc</th>\n",
       "      <th>marital_status_code</th>\n",
       "      <th>income_desc</th>\n",
       "      <th>homeowner_desc</th>\n",
       "      <th>hh_comp_desc</th>\n",
       "      <th>household_size_desc</th>\n",
       "      <th>kid_category_desc</th>\n",
       "      <th>user_id</th>\n",
       "    </tr>\n",
       "  </thead>\n",
       "  <tbody>\n",
       "    <tr>\n",
       "      <th>0</th>\n",
       "      <td>65+</td>\n",
       "      <td>A</td>\n",
       "      <td>35-49K</td>\n",
       "      <td>Homeowner</td>\n",
       "      <td>2 Adults No Kids</td>\n",
       "      <td>2</td>\n",
       "      <td>None/Unknown</td>\n",
       "      <td>1</td>\n",
       "    </tr>\n",
       "    <tr>\n",
       "      <th>1</th>\n",
       "      <td>45-54</td>\n",
       "      <td>A</td>\n",
       "      <td>50-74K</td>\n",
       "      <td>Homeowner</td>\n",
       "      <td>2 Adults No Kids</td>\n",
       "      <td>2</td>\n",
       "      <td>None/Unknown</td>\n",
       "      <td>7</td>\n",
       "    </tr>\n",
       "  </tbody>\n",
       "</table>\n",
       "</div>"
      ],
      "text/plain": [
       "  age_desc marital_status_code income_desc homeowner_desc      hh_comp_desc  \\\n",
       "0      65+                   A      35-49K      Homeowner  2 Adults No Kids   \n",
       "1    45-54                   A      50-74K      Homeowner  2 Adults No Kids   \n",
       "\n",
       "  household_size_desc kid_category_desc  user_id  \n",
       "0                   2      None/Unknown        1  \n",
       "1                   2      None/Unknown        7  "
      ]
     },
     "execution_count": 43,
     "metadata": {},
     "output_type": "execute_result"
    }
   ],
   "source": [
    "user_features.head(2)"
   ]
  },
  {
   "cell_type": "code",
   "execution_count": 44,
   "metadata": {},
   "outputs": [
    {
     "data": {
      "text/plain": [
       "array(['65+', '45-54', '25-34', '35-44', '19-24', '55-64'], dtype=object)"
      ]
     },
     "execution_count": 44,
     "metadata": {},
     "output_type": "execute_result"
    }
   ],
   "source": [
    "user_features['age_desc'].unique()"
   ]
  },
  {
   "cell_type": "code",
   "execution_count": 45,
   "metadata": {},
   "outputs": [
    {
     "data": {
      "text/plain": [
       "array(['A', 'U', 'B'], dtype=object)"
      ]
     },
     "execution_count": 45,
     "metadata": {},
     "output_type": "execute_result"
    }
   ],
   "source": [
    "user_features['marital_status_code'].unique()"
   ]
  },
  {
   "cell_type": "code",
   "execution_count": 46,
   "metadata": {},
   "outputs": [
    {
     "data": {
      "text/plain": [
       "array(['2', '3', '4', '1', '5+'], dtype=object)"
      ]
     },
     "execution_count": 46,
     "metadata": {},
     "output_type": "execute_result"
    }
   ],
   "source": [
    "user_features['household_size_desc'].unique()"
   ]
  },
  {
   "cell_type": "markdown",
   "metadata": {},
   "source": [
    "## 1. Filter items"
   ]
  },
  {
   "cell_type": "code",
   "execution_count": 47,
   "metadata": {},
   "outputs": [
    {
     "data": {
      "text/html": [
       "<div>\n",
       "<style scoped>\n",
       "    .dataframe tbody tr th:only-of-type {\n",
       "        vertical-align: middle;\n",
       "    }\n",
       "\n",
       "    .dataframe tbody tr th {\n",
       "        vertical-align: top;\n",
       "    }\n",
       "\n",
       "    .dataframe thead th {\n",
       "        text-align: right;\n",
       "    }\n",
       "</style>\n",
       "<table border=\"1\" class=\"dataframe\">\n",
       "  <thead>\n",
       "    <tr style=\"text-align: right;\">\n",
       "      <th></th>\n",
       "      <th>user_id</th>\n",
       "      <th>basket_id</th>\n",
       "      <th>day</th>\n",
       "      <th>item_id</th>\n",
       "      <th>quantity</th>\n",
       "      <th>sales_value</th>\n",
       "      <th>store_id</th>\n",
       "      <th>retail_disc</th>\n",
       "      <th>trans_time</th>\n",
       "      <th>week_no</th>\n",
       "      <th>coupon_disc</th>\n",
       "      <th>coupon_match_disc</th>\n",
       "    </tr>\n",
       "  </thead>\n",
       "  <tbody>\n",
       "    <tr>\n",
       "      <th>0</th>\n",
       "      <td>2375</td>\n",
       "      <td>26984851472</td>\n",
       "      <td>1</td>\n",
       "      <td>1004906</td>\n",
       "      <td>1</td>\n",
       "      <td>1.39</td>\n",
       "      <td>364</td>\n",
       "      <td>-0.60</td>\n",
       "      <td>1631</td>\n",
       "      <td>1</td>\n",
       "      <td>0.0</td>\n",
       "      <td>0.0</td>\n",
       "    </tr>\n",
       "    <tr>\n",
       "      <th>1</th>\n",
       "      <td>2375</td>\n",
       "      <td>26984851472</td>\n",
       "      <td>1</td>\n",
       "      <td>1033142</td>\n",
       "      <td>1</td>\n",
       "      <td>0.82</td>\n",
       "      <td>364</td>\n",
       "      <td>0.00</td>\n",
       "      <td>1631</td>\n",
       "      <td>1</td>\n",
       "      <td>0.0</td>\n",
       "      <td>0.0</td>\n",
       "    </tr>\n",
       "    <tr>\n",
       "      <th>2</th>\n",
       "      <td>2375</td>\n",
       "      <td>26984851472</td>\n",
       "      <td>1</td>\n",
       "      <td>1036325</td>\n",
       "      <td>1</td>\n",
       "      <td>0.99</td>\n",
       "      <td>364</td>\n",
       "      <td>-0.30</td>\n",
       "      <td>1631</td>\n",
       "      <td>1</td>\n",
       "      <td>0.0</td>\n",
       "      <td>0.0</td>\n",
       "    </tr>\n",
       "    <tr>\n",
       "      <th>3</th>\n",
       "      <td>2375</td>\n",
       "      <td>26984851472</td>\n",
       "      <td>1</td>\n",
       "      <td>1082185</td>\n",
       "      <td>1</td>\n",
       "      <td>1.21</td>\n",
       "      <td>364</td>\n",
       "      <td>0.00</td>\n",
       "      <td>1631</td>\n",
       "      <td>1</td>\n",
       "      <td>0.0</td>\n",
       "      <td>0.0</td>\n",
       "    </tr>\n",
       "    <tr>\n",
       "      <th>4</th>\n",
       "      <td>2375</td>\n",
       "      <td>26984851472</td>\n",
       "      <td>1</td>\n",
       "      <td>8160430</td>\n",
       "      <td>1</td>\n",
       "      <td>1.50</td>\n",
       "      <td>364</td>\n",
       "      <td>-0.39</td>\n",
       "      <td>1631</td>\n",
       "      <td>1</td>\n",
       "      <td>0.0</td>\n",
       "      <td>0.0</td>\n",
       "    </tr>\n",
       "  </tbody>\n",
       "</table>\n",
       "</div>"
      ],
      "text/plain": [
       "   user_id    basket_id  day  item_id  quantity  sales_value  store_id  \\\n",
       "0     2375  26984851472    1  1004906         1         1.39       364   \n",
       "1     2375  26984851472    1  1033142         1         0.82       364   \n",
       "2     2375  26984851472    1  1036325         1         0.99       364   \n",
       "3     2375  26984851472    1  1082185         1         1.21       364   \n",
       "4     2375  26984851472    1  8160430         1         1.50       364   \n",
       "\n",
       "   retail_disc  trans_time  week_no  coupon_disc  coupon_match_disc  \n",
       "0        -0.60        1631        1          0.0                0.0  \n",
       "1         0.00        1631        1          0.0                0.0  \n",
       "2        -0.30        1631        1          0.0                0.0  \n",
       "3         0.00        1631        1          0.0                0.0  \n",
       "4        -0.39        1631        1          0.0                0.0  "
      ]
     },
     "execution_count": 47,
     "metadata": {},
     "output_type": "execute_result"
    }
   ],
   "source": [
    "data_train.head()"
   ]
  },
  {
   "cell_type": "code",
   "execution_count": 48,
   "metadata": {},
   "outputs": [
    {
     "name": "stdout",
     "output_type": "stream",
     "text": [
      "Decreased # items_train from 86865 to 5001\n",
      "Decreased # items_test from 24329 to 5001\n",
      "Decreased # users_train from 2499 to 2497\n",
      "Decreased # users_test from 2042 to 1990\n"
     ]
    }
   ],
   "source": [
    "n_items_train_before = data_train['item_id'].nunique()\n",
    "n_items_test_before = data_test['item_id'].nunique()\n",
    "n_users_train_before = data_train['user_id'].nunique()\n",
    "n_users_test_before = data_test['user_id'].nunique()\n",
    "\n",
    "data_train_filtered = prefilter_items(data_train, take_n_popular=5000, item_features=item_features)\n",
    "data_test_filtered = prefilter_items(data_test, take_n_popular=5000, item_features=item_features)\n",
    "\n",
    "n_items_train_after = data_train_filtered['item_id'].nunique()\n",
    "n_items_test_after = data_test_filtered['item_id'].nunique()\n",
    "n_users_train_after = data_train_filtered['user_id'].nunique()\n",
    "n_users_test_after = data_test_filtered['user_id'].nunique()\n",
    "print('Decreased # items_train from {} to {}'.format(n_items_train_before, n_items_train_after))\n",
    "print('Decreased # items_test from {} to {}'.format(n_items_test_before, n_items_test_after))\n",
    "print('Decreased # users_train from {} to {}'.format(n_users_train_before, n_users_train_after))\n",
    "print('Decreased # users_test from {} to {}'.format(n_users_test_before, n_users_test_after))"
   ]
  },
  {
   "cell_type": "markdown",
   "metadata": {},
   "source": [
    "# 2. Prepare data set"
   ]
  },
  {
   "cell_type": "markdown",
   "metadata": {},
   "source": [
    "## 2.1 Prepare csr train matrix"
   ]
  },
  {
   "cell_type": "code",
   "execution_count": 49,
   "metadata": {},
   "outputs": [
    {
     "data": {
      "text/html": [
       "<div>\n",
       "<style scoped>\n",
       "    .dataframe tbody tr th:only-of-type {\n",
       "        vertical-align: middle;\n",
       "    }\n",
       "\n",
       "    .dataframe tbody tr th {\n",
       "        vertical-align: top;\n",
       "    }\n",
       "\n",
       "    .dataframe thead th {\n",
       "        text-align: right;\n",
       "    }\n",
       "</style>\n",
       "<table border=\"1\" class=\"dataframe\">\n",
       "  <thead>\n",
       "    <tr style=\"text-align: right;\">\n",
       "      <th>item_id</th>\n",
       "      <th>117847</th>\n",
       "      <th>818981</th>\n",
       "      <th>819255</th>\n",
       "      <th>819308</th>\n",
       "      <th>819400</th>\n",
       "      <th>819487</th>\n",
       "      <th>819590</th>\n",
       "      <th>819594</th>\n",
       "      <th>819840</th>\n",
       "      <th>819845</th>\n",
       "      <th>...</th>\n",
       "      <th>15926775</th>\n",
       "      <th>15926844</th>\n",
       "      <th>15926886</th>\n",
       "      <th>15972074</th>\n",
       "      <th>15972298</th>\n",
       "      <th>15972565</th>\n",
       "      <th>15972790</th>\n",
       "      <th>16100266</th>\n",
       "      <th>16729299</th>\n",
       "      <th>16729415</th>\n",
       "    </tr>\n",
       "    <tr>\n",
       "      <th>user_id</th>\n",
       "      <th></th>\n",
       "      <th></th>\n",
       "      <th></th>\n",
       "      <th></th>\n",
       "      <th></th>\n",
       "      <th></th>\n",
       "      <th></th>\n",
       "      <th></th>\n",
       "      <th></th>\n",
       "      <th></th>\n",
       "      <th></th>\n",
       "      <th></th>\n",
       "      <th></th>\n",
       "      <th></th>\n",
       "      <th></th>\n",
       "      <th></th>\n",
       "      <th></th>\n",
       "      <th></th>\n",
       "      <th></th>\n",
       "      <th></th>\n",
       "      <th></th>\n",
       "    </tr>\n",
       "  </thead>\n",
       "  <tbody>\n",
       "    <tr>\n",
       "      <th>1</th>\n",
       "      <td>0.0</td>\n",
       "      <td>0.0</td>\n",
       "      <td>0.0</td>\n",
       "      <td>0.0</td>\n",
       "      <td>0.0</td>\n",
       "      <td>0.0</td>\n",
       "      <td>0.0</td>\n",
       "      <td>0.0</td>\n",
       "      <td>0.0</td>\n",
       "      <td>0.0</td>\n",
       "      <td>...</td>\n",
       "      <td>0.0</td>\n",
       "      <td>1.0</td>\n",
       "      <td>0.0</td>\n",
       "      <td>0.0</td>\n",
       "      <td>0.0</td>\n",
       "      <td>0.0</td>\n",
       "      <td>0.0</td>\n",
       "      <td>0.0</td>\n",
       "      <td>0.0</td>\n",
       "      <td>0.0</td>\n",
       "    </tr>\n",
       "    <tr>\n",
       "      <th>2</th>\n",
       "      <td>0.0</td>\n",
       "      <td>0.0</td>\n",
       "      <td>0.0</td>\n",
       "      <td>0.0</td>\n",
       "      <td>0.0</td>\n",
       "      <td>0.0</td>\n",
       "      <td>0.0</td>\n",
       "      <td>0.0</td>\n",
       "      <td>0.0</td>\n",
       "      <td>0.0</td>\n",
       "      <td>...</td>\n",
       "      <td>0.0</td>\n",
       "      <td>0.0</td>\n",
       "      <td>0.0</td>\n",
       "      <td>0.0</td>\n",
       "      <td>0.0</td>\n",
       "      <td>0.0</td>\n",
       "      <td>0.0</td>\n",
       "      <td>0.0</td>\n",
       "      <td>0.0</td>\n",
       "      <td>0.0</td>\n",
       "    </tr>\n",
       "  </tbody>\n",
       "</table>\n",
       "<p>2 rows × 5001 columns</p>\n",
       "</div>"
      ],
      "text/plain": [
       "item_id  117847    818981    819255    819308    819400    819487    819590    \\\n",
       "user_id                                                                         \n",
       "1             0.0       0.0       0.0       0.0       0.0       0.0       0.0   \n",
       "2             0.0       0.0       0.0       0.0       0.0       0.0       0.0   \n",
       "\n",
       "item_id  819594    819840    819845    ...  15926775  15926844  15926886  \\\n",
       "user_id                                ...                                 \n",
       "1             0.0       0.0       0.0  ...       0.0       1.0       0.0   \n",
       "2             0.0       0.0       0.0  ...       0.0       0.0       0.0   \n",
       "\n",
       "item_id  15972074  15972298  15972565  15972790  16100266  16729299  16729415  \n",
       "user_id                                                                        \n",
       "1             0.0       0.0       0.0       0.0       0.0       0.0       0.0  \n",
       "2             0.0       0.0       0.0       0.0       0.0       0.0       0.0  \n",
       "\n",
       "[2 rows x 5001 columns]"
      ]
     },
     "execution_count": 49,
     "metadata": {},
     "output_type": "execute_result"
    }
   ],
   "source": [
    "\n",
    "user_item_matrix = pd.pivot_table(data_train_filtered, \n",
    "                                  index='user_id', columns='item_id', \n",
    "                                  values='quantity', # Можно пробоват ьдругие варианты\n",
    "                                  aggfunc='count', \n",
    "                                  fill_value=0\n",
    "                                 )\n",
    "\n",
    "user_item_matrix = user_item_matrix.astype(float) # необходимый тип матрицы для implicit\n",
    "\n",
    "# переведем в формат saprse matrix\n",
    "sparse_user_item = csr_matrix(user_item_matrix).tocsr()\n",
    "\n",
    "user_item_matrix.head(2)"
   ]
  },
  {
   "cell_type": "markdown",
   "metadata": {},
   "source": [
    "## 2.2 Prepare CSR test matrix"
   ]
  },
  {
   "cell_type": "code",
   "execution_count": 50,
   "metadata": {},
   "outputs": [
    {
     "data": {
      "text/html": [
       "<div>\n",
       "<style scoped>\n",
       "    .dataframe tbody tr th:only-of-type {\n",
       "        vertical-align: middle;\n",
       "    }\n",
       "\n",
       "    .dataframe tbody tr th {\n",
       "        vertical-align: top;\n",
       "    }\n",
       "\n",
       "    .dataframe thead th {\n",
       "        text-align: right;\n",
       "    }\n",
       "</style>\n",
       "<table border=\"1\" class=\"dataframe\">\n",
       "  <thead>\n",
       "    <tr style=\"text-align: right;\">\n",
       "      <th>item_id</th>\n",
       "      <th>819210</th>\n",
       "      <th>819308</th>\n",
       "      <th>819423</th>\n",
       "      <th>819487</th>\n",
       "      <th>819840</th>\n",
       "      <th>819845</th>\n",
       "      <th>819978</th>\n",
       "      <th>820321</th>\n",
       "      <th>820347</th>\n",
       "      <th>820352</th>\n",
       "      <th>...</th>\n",
       "      <th>17381676</th>\n",
       "      <th>17381995</th>\n",
       "      <th>17827241</th>\n",
       "      <th>17900997</th>\n",
       "      <th>17901020</th>\n",
       "      <th>17903379</th>\n",
       "      <th>17903423</th>\n",
       "      <th>17959083</th>\n",
       "      <th>18000012</th>\n",
       "      <th>18024556</th>\n",
       "    </tr>\n",
       "    <tr>\n",
       "      <th>user_id</th>\n",
       "      <th></th>\n",
       "      <th></th>\n",
       "      <th></th>\n",
       "      <th></th>\n",
       "      <th></th>\n",
       "      <th></th>\n",
       "      <th></th>\n",
       "      <th></th>\n",
       "      <th></th>\n",
       "      <th></th>\n",
       "      <th></th>\n",
       "      <th></th>\n",
       "      <th></th>\n",
       "      <th></th>\n",
       "      <th></th>\n",
       "      <th></th>\n",
       "      <th></th>\n",
       "      <th></th>\n",
       "      <th></th>\n",
       "      <th></th>\n",
       "      <th></th>\n",
       "    </tr>\n",
       "  </thead>\n",
       "  <tbody>\n",
       "    <tr>\n",
       "      <th>1</th>\n",
       "      <td>0.0</td>\n",
       "      <td>0.0</td>\n",
       "      <td>0.0</td>\n",
       "      <td>0.0</td>\n",
       "      <td>0.0</td>\n",
       "      <td>0.0</td>\n",
       "      <td>0.0</td>\n",
       "      <td>0.0</td>\n",
       "      <td>0.0</td>\n",
       "      <td>0.0</td>\n",
       "      <td>...</td>\n",
       "      <td>0.0</td>\n",
       "      <td>0.0</td>\n",
       "      <td>0.0</td>\n",
       "      <td>0.0</td>\n",
       "      <td>0.0</td>\n",
       "      <td>0.0</td>\n",
       "      <td>0.0</td>\n",
       "      <td>0.0</td>\n",
       "      <td>0.0</td>\n",
       "      <td>0.0</td>\n",
       "    </tr>\n",
       "    <tr>\n",
       "      <th>3</th>\n",
       "      <td>0.0</td>\n",
       "      <td>0.0</td>\n",
       "      <td>0.0</td>\n",
       "      <td>0.0</td>\n",
       "      <td>0.0</td>\n",
       "      <td>0.0</td>\n",
       "      <td>0.0</td>\n",
       "      <td>0.0</td>\n",
       "      <td>0.0</td>\n",
       "      <td>0.0</td>\n",
       "      <td>...</td>\n",
       "      <td>0.0</td>\n",
       "      <td>0.0</td>\n",
       "      <td>0.0</td>\n",
       "      <td>0.0</td>\n",
       "      <td>0.0</td>\n",
       "      <td>0.0</td>\n",
       "      <td>0.0</td>\n",
       "      <td>0.0</td>\n",
       "      <td>0.0</td>\n",
       "      <td>0.0</td>\n",
       "    </tr>\n",
       "  </tbody>\n",
       "</table>\n",
       "<p>2 rows × 5001 columns</p>\n",
       "</div>"
      ],
      "text/plain": [
       "item_id  819210    819308    819423    819487    819840    819845    819978    \\\n",
       "user_id                                                                         \n",
       "1             0.0       0.0       0.0       0.0       0.0       0.0       0.0   \n",
       "3             0.0       0.0       0.0       0.0       0.0       0.0       0.0   \n",
       "\n",
       "item_id  820321    820347    820352    ...  17381676  17381995  17827241  \\\n",
       "user_id                                ...                                 \n",
       "1             0.0       0.0       0.0  ...       0.0       0.0       0.0   \n",
       "3             0.0       0.0       0.0  ...       0.0       0.0       0.0   \n",
       "\n",
       "item_id  17900997  17901020  17903379  17903423  17959083  18000012  18024556  \n",
       "user_id                                                                        \n",
       "1             0.0       0.0       0.0       0.0       0.0       0.0       0.0  \n",
       "3             0.0       0.0       0.0       0.0       0.0       0.0       0.0  \n",
       "\n",
       "[2 rows x 5001 columns]"
      ]
     },
     "execution_count": 50,
     "metadata": {},
     "output_type": "execute_result"
    }
   ],
   "source": [
    "data_test = data_test[data_test['item_id'].isin(data_train['item_id'].unique())]\n",
    "\n",
    "test_user_item_matrix = pd.pivot_table(data_test_filtered, \n",
    "                                  index='user_id', columns='item_id', \n",
    "                                  values='quantity', # Можно пробовать другие варианты\n",
    "                                  aggfunc='count', \n",
    "                                  fill_value=0\n",
    "                                 )\n",
    "\n",
    "test_user_item_matrix = test_user_item_matrix.astype(float) # необходимый тип матрицы для implicit\n",
    "test_user_item_matrix.head(2)"
   ]
  },
  {
   "cell_type": "code",
   "execution_count": 51,
   "metadata": {},
   "outputs": [],
   "source": [
    "userids = user_item_matrix.index.values\n",
    "itemids = user_item_matrix.columns.values\n",
    "\n",
    "matrix_userids = np.arange(len(userids))\n",
    "matrix_itemids = np.arange(len(itemids))\n",
    "\n",
    "id_to_itemid = dict(zip(matrix_itemids, itemids))\n",
    "id_to_userid = dict(zip(matrix_userids, userids))\n",
    "\n",
    "itemid_to_id = dict(zip(itemids, matrix_itemids))\n",
    "userid_to_id = dict(zip(userids, matrix_userids))"
   ]
  },
  {
   "cell_type": "markdown",
   "metadata": {},
   "source": [
    "## 3. Prepare user and item features"
   ]
  },
  {
   "cell_type": "code",
   "execution_count": 52,
   "metadata": {},
   "outputs": [
    {
     "data": {
      "text/html": [
       "<div>\n",
       "<style scoped>\n",
       "    .dataframe tbody tr th:only-of-type {\n",
       "        vertical-align: middle;\n",
       "    }\n",
       "\n",
       "    .dataframe tbody tr th {\n",
       "        vertical-align: top;\n",
       "    }\n",
       "\n",
       "    .dataframe thead th {\n",
       "        text-align: right;\n",
       "    }\n",
       "</style>\n",
       "<table border=\"1\" class=\"dataframe\">\n",
       "  <thead>\n",
       "    <tr style=\"text-align: right;\">\n",
       "      <th></th>\n",
       "      <th>age_desc</th>\n",
       "      <th>marital_status_code</th>\n",
       "      <th>income_desc</th>\n",
       "      <th>homeowner_desc</th>\n",
       "      <th>hh_comp_desc</th>\n",
       "      <th>household_size_desc</th>\n",
       "      <th>kid_category_desc</th>\n",
       "    </tr>\n",
       "    <tr>\n",
       "      <th>user_id</th>\n",
       "      <th></th>\n",
       "      <th></th>\n",
       "      <th></th>\n",
       "      <th></th>\n",
       "      <th></th>\n",
       "      <th></th>\n",
       "      <th></th>\n",
       "    </tr>\n",
       "  </thead>\n",
       "  <tbody>\n",
       "    <tr>\n",
       "      <th>1</th>\n",
       "      <td>65+</td>\n",
       "      <td>A</td>\n",
       "      <td>35-49K</td>\n",
       "      <td>Homeowner</td>\n",
       "      <td>2 Adults No Kids</td>\n",
       "      <td>2</td>\n",
       "      <td>None/Unknown</td>\n",
       "    </tr>\n",
       "    <tr>\n",
       "      <th>2</th>\n",
       "      <td>NaN</td>\n",
       "      <td>NaN</td>\n",
       "      <td>NaN</td>\n",
       "      <td>NaN</td>\n",
       "      <td>NaN</td>\n",
       "      <td>NaN</td>\n",
       "      <td>NaN</td>\n",
       "    </tr>\n",
       "  </tbody>\n",
       "</table>\n",
       "</div>"
      ],
      "text/plain": [
       "        age_desc marital_status_code income_desc homeowner_desc  \\\n",
       "user_id                                                           \n",
       "1            65+                   A      35-49K      Homeowner   \n",
       "2            NaN                 NaN         NaN            NaN   \n",
       "\n",
       "             hh_comp_desc household_size_desc kid_category_desc  \n",
       "user_id                                                          \n",
       "1        2 Adults No Kids                   2      None/Unknown  \n",
       "2                     NaN                 NaN               NaN  "
      ]
     },
     "execution_count": 52,
     "metadata": {},
     "output_type": "execute_result"
    }
   ],
   "source": [
    "user_feat = pd.DataFrame(user_item_matrix.index)\n",
    "user_feat = user_feat.merge(user_features, on='user_id', how='left')\n",
    "user_feat.set_index('user_id', inplace=True)\n",
    "user_feat.head(2)"
   ]
  },
  {
   "cell_type": "code",
   "execution_count": 53,
   "metadata": {},
   "outputs": [
    {
     "data": {
      "text/plain": [
       "(2497, 7)"
      ]
     },
     "execution_count": 53,
     "metadata": {},
     "output_type": "execute_result"
    }
   ],
   "source": [
    "user_feat.shape"
   ]
  },
  {
   "cell_type": "code",
   "execution_count": 54,
   "metadata": {
    "scrolled": true
   },
   "outputs": [
    {
     "data": {
      "text/html": [
       "<div>\n",
       "<style scoped>\n",
       "    .dataframe tbody tr th:only-of-type {\n",
       "        vertical-align: middle;\n",
       "    }\n",
       "\n",
       "    .dataframe tbody tr th {\n",
       "        vertical-align: top;\n",
       "    }\n",
       "\n",
       "    .dataframe thead th {\n",
       "        text-align: right;\n",
       "    }\n",
       "</style>\n",
       "<table border=\"1\" class=\"dataframe\">\n",
       "  <thead>\n",
       "    <tr style=\"text-align: right;\">\n",
       "      <th></th>\n",
       "      <th>manufacturer</th>\n",
       "      <th>department</th>\n",
       "      <th>brand</th>\n",
       "      <th>commodity_desc</th>\n",
       "      <th>sub_commodity_desc</th>\n",
       "      <th>curr_size_of_product</th>\n",
       "    </tr>\n",
       "    <tr>\n",
       "      <th>item_id</th>\n",
       "      <th></th>\n",
       "      <th></th>\n",
       "      <th></th>\n",
       "      <th></th>\n",
       "      <th></th>\n",
       "      <th></th>\n",
       "    </tr>\n",
       "  </thead>\n",
       "  <tbody>\n",
       "    <tr>\n",
       "      <th>117847</th>\n",
       "      <td>450.0</td>\n",
       "      <td>NUTRITION</td>\n",
       "      <td>National</td>\n",
       "      <td>REFRIGERATED</td>\n",
       "      <td>SOY/RICE MILK</td>\n",
       "      <td>64 OZ</td>\n",
       "    </tr>\n",
       "    <tr>\n",
       "      <th>818981</th>\n",
       "      <td>194.0</td>\n",
       "      <td>GROCERY</td>\n",
       "      <td>National</td>\n",
       "      <td>COLD CEREAL</td>\n",
       "      <td>ALL FAMILY CEREAL</td>\n",
       "      <td>10.4 OZ</td>\n",
       "    </tr>\n",
       "  </tbody>\n",
       "</table>\n",
       "</div>"
      ],
      "text/plain": [
       "         manufacturer department     brand commodity_desc sub_commodity_desc  \\\n",
       "item_id                                                                        \n",
       "117847          450.0  NUTRITION  National   REFRIGERATED      SOY/RICE MILK   \n",
       "818981          194.0    GROCERY  National    COLD CEREAL  ALL FAMILY CEREAL   \n",
       "\n",
       "        curr_size_of_product  \n",
       "item_id                       \n",
       "117847                 64 OZ  \n",
       "818981               10.4 OZ  "
      ]
     },
     "execution_count": 54,
     "metadata": {},
     "output_type": "execute_result"
    }
   ],
   "source": [
    "item_feat = pd.DataFrame(user_item_matrix.columns)\n",
    "item_feat = item_feat.merge(item_features, on='item_id', how='left')\n",
    "item_feat.set_index('item_id', inplace=True)\n",
    "\n",
    "item_feat.head(2)"
   ]
  },
  {
   "cell_type": "code",
   "execution_count": 55,
   "metadata": {},
   "outputs": [
    {
     "data": {
      "text/plain": [
       "(5001, 6)"
      ]
     },
     "execution_count": 55,
     "metadata": {},
     "output_type": "execute_result"
    }
   ],
   "source": [
    "item_feat.shape"
   ]
  },
  {
   "cell_type": "markdown",
   "metadata": {},
   "source": [
    "## Encoding features"
   ]
  },
  {
   "cell_type": "code",
   "execution_count": 56,
   "metadata": {},
   "outputs": [],
   "source": [
    "user_feat_lightfm = pd.get_dummies(user_feat, columns=user_feat.columns.tolist())\n",
    "item_feat_lightfm = pd.get_dummies(item_feat, columns=item_feat.columns.tolist())"
   ]
  },
  {
   "cell_type": "markdown",
   "metadata": {},
   "source": [
    "## Init model"
   ]
  },
  {
   "cell_type": "code",
   "execution_count": 57,
   "metadata": {},
   "outputs": [],
   "source": [
    "model = LightFM(no_components=40, # количество факторов (в новой матрице - рисунок наверху)\n",
    "                 loss='bpr',\n",
    "                #loss='warp',\n",
    "                learning_rate=0.05, \n",
    "                item_alpha=0.1,  # коеф-ты регуляризации - которые помогают взвесить фичи товаров a1f1 в формуле user_emb\n",
    "                user_alpha=0.1,  # чтобы не сильно затачиваться под пользователей которые часто покупают\n",
    "                k=5, # Количнство рекоменд которые мы хотим выдать\n",
    "                n=15, # Кол-во переборов которые мы хотим взять\n",
    "                max_sampled=100, # привязан к n и ограничивает 100 товарами которых брать\n",
    "                random_state=42)"
   ]
  },
  {
   "cell_type": "markdown",
   "metadata": {},
   "source": [
    "## Train"
   ]
  },
  {
   "cell_type": "code",
   "execution_count": 58,
   "metadata": {},
   "outputs": [
    {
     "name": "stdout",
     "output_type": "stream",
     "text": [
      "CPU times: total: 1min 41s\n",
      "Wall time: 1min 41s\n"
     ]
    },
    {
     "data": {
      "text/plain": [
       "<lightfm.lightfm.LightFM at 0x25780035a00>"
      ]
     },
     "execution_count": 58,
     "metadata": {},
     "output_type": "execute_result"
    }
   ],
   "source": [
    "%%time\n",
    "\n",
    "model.fit((sparse_user_item > 0) * 1,  # user-item matrix из 0 и 1\n",
    "          sample_weight=coo_matrix(user_item_matrix),\n",
    "          user_features=csr_matrix(user_feat_lightfm.values).tocsr(),\n",
    "          item_features=csr_matrix(item_feat_lightfm.values).tocsr(),\n",
    "          epochs=15, \n",
    "          num_threads=4,\n",
    "          verbose=False) "
   ]
  },
  {
   "cell_type": "markdown",
   "metadata": {},
   "source": [
    "# Evaluation"
   ]
  },
  {
   "cell_type": "code",
   "execution_count": 59,
   "metadata": {},
   "outputs": [],
   "source": [
    "user_emb = model.get_user_representations(features=csr_matrix(user_feat_lightfm.values).tocsr())"
   ]
  },
  {
   "cell_type": "code",
   "execution_count": 60,
   "metadata": {},
   "outputs": [
    {
     "data": {
      "text/plain": [
       "array([-81.08453 ,   0.      ,   0.      , ..., -83.734726, -52.356426,\n",
       "         0.      ], dtype=float32)"
      ]
     },
     "execution_count": 60,
     "metadata": {},
     "output_type": "execute_result"
    }
   ],
   "source": [
    "user_emb[0]  # biases"
   ]
  },
  {
   "cell_type": "code",
   "execution_count": 61,
   "metadata": {},
   "outputs": [
    {
     "data": {
      "text/plain": [
       "(2497,)"
      ]
     },
     "execution_count": 61,
     "metadata": {},
     "output_type": "execute_result"
    }
   ],
   "source": [
    "user_emb[0].shape"
   ]
  },
  {
   "cell_type": "code",
   "execution_count": 62,
   "metadata": {},
   "outputs": [
    {
     "data": {
      "text/plain": [
       "array([[ 3.7863842e-04, -1.7079283e-03, -1.1492267e-04, ...,\n",
       "        -1.3650634e-04, -3.2811076e-05,  8.9634291e-04],\n",
       "       [ 0.0000000e+00,  0.0000000e+00,  0.0000000e+00, ...,\n",
       "         0.0000000e+00,  0.0000000e+00,  0.0000000e+00],\n",
       "       [ 0.0000000e+00,  0.0000000e+00,  0.0000000e+00, ...,\n",
       "         0.0000000e+00,  0.0000000e+00,  0.0000000e+00],\n",
       "       ...,\n",
       "       [ 6.1603123e-04,  1.0006218e-03,  1.5555976e-03, ...,\n",
       "         3.1972113e-03,  1.4566761e-03,  2.9825259e-04],\n",
       "       [-1.5958624e-03,  8.3692661e-03,  1.4935858e-03, ...,\n",
       "        -4.3662032e-05, -1.2989517e-04, -1.4679842e-02],\n",
       "       [ 0.0000000e+00,  0.0000000e+00,  0.0000000e+00, ...,\n",
       "         0.0000000e+00,  0.0000000e+00,  0.0000000e+00]], dtype=float32)"
      ]
     },
     "execution_count": 62,
     "metadata": {},
     "output_type": "execute_result"
    }
   ],
   "source": [
    "user_emb[1]  # embeddings"
   ]
  },
  {
   "cell_type": "code",
   "execution_count": 63,
   "metadata": {},
   "outputs": [
    {
     "data": {
      "text/plain": [
       "(2497, 40)"
      ]
     },
     "execution_count": 63,
     "metadata": {},
     "output_type": "execute_result"
    }
   ],
   "source": [
    "user_emb[1].shape"
   ]
  },
  {
   "cell_type": "code",
   "execution_count": 64,
   "metadata": {},
   "outputs": [],
   "source": [
    "item_emb = model.get_item_representations(features=csr_matrix(item_feat_lightfm.values).tocsr())"
   ]
  },
  {
   "cell_type": "code",
   "execution_count": 65,
   "metadata": {},
   "outputs": [
    {
     "data": {
      "text/plain": [
       "(5001,)"
      ]
     },
     "execution_count": 65,
     "metadata": {},
     "output_type": "execute_result"
    }
   ],
   "source": [
    "item_emb[0].shape"
   ]
  },
  {
   "cell_type": "code",
   "execution_count": 66,
   "metadata": {},
   "outputs": [
    {
     "data": {
      "text/plain": [
       "(5001, 40)"
      ]
     },
     "execution_count": 66,
     "metadata": {},
     "output_type": "execute_result"
    }
   ],
   "source": [
    "item_emb[1].shape"
   ]
  },
  {
   "cell_type": "markdown",
   "metadata": {},
   "source": [
    "# Train precision"
   ]
  },
  {
   "cell_type": "code",
   "execution_count": 67,
   "metadata": {},
   "outputs": [
    {
     "data": {
      "text/plain": [
       "0.21097319"
      ]
     },
     "execution_count": 67,
     "metadata": {},
     "output_type": "execute_result"
    }
   ],
   "source": [
    "train_precision = precision_at_k(model, sparse_user_item, \n",
    "                                 user_features=csr_matrix(user_feat_lightfm.values).tocsr(),\n",
    "                                 item_features=csr_matrix(item_feat_lightfm.values).tocsr(),\n",
    "                                 k=5).mean()\n",
    "\n",
    "train_precision"
   ]
  },
  {
   "cell_type": "markdown",
   "metadata": {},
   "source": [
    "0.21097319 bpr"
   ]
  },
  {
   "cell_type": "markdown",
   "metadata": {},
   "source": [
    "0.29411295 warp"
   ]
  },
  {
   "cell_type": "code",
   "execution_count": 68,
   "metadata": {},
   "outputs": [],
   "source": [
    "test_item_ids = np.array([5000, 2000, 3, 200, 1200])\n",
    "\n",
    "predictions = model.predict(user_ids=10,\n",
    "                            item_ids=test_item_ids,\n",
    "                            user_features=csr_matrix(user_feat_lightfm.values).tocsr(),\n",
    "                            item_features=csr_matrix(item_feat_lightfm.values).tocsr(),\n",
    "                            num_threads=4)"
   ]
  },
  {
   "cell_type": "code",
   "execution_count": 69,
   "metadata": {},
   "outputs": [
    {
     "data": {
      "text/plain": [
       "array([-54.762722, -54.897915, -54.25194 , -53.81579 , -54.70555 ],\n",
       "      dtype=float32)"
      ]
     },
     "execution_count": 69,
     "metadata": {},
     "output_type": "execute_result"
    }
   ],
   "source": [
    "predictions"
   ]
  },
  {
   "cell_type": "code",
   "execution_count": 70,
   "metadata": {},
   "outputs": [
    {
     "data": {
      "text/plain": [
       "array([-54.762722, -54.897915, -54.25194 , -53.81579 , -54.70555 ],\n",
       "      dtype=float32)"
      ]
     },
     "execution_count": 70,
     "metadata": {},
     "output_type": "execute_result"
    }
   ],
   "source": [
    "predictions"
   ]
  },
  {
   "cell_type": "markdown",
   "metadata": {},
   "source": [
    "# Test precision"
   ]
  },
  {
   "cell_type": "code",
   "execution_count": 71,
   "metadata": {},
   "outputs": [
    {
     "data": {
      "text/plain": [
       "0.0024120605"
      ]
     },
     "execution_count": 71,
     "metadata": {},
     "output_type": "execute_result"
    }
   ],
   "source": [
    "test_precision = precision_at_k(model, csr_matrix(test_user_item_matrix).tocsr(), \n",
    "                                 user_features=csr_matrix(user_feat_lightfm.values).tocsr(),\n",
    "                                 item_features=csr_matrix(item_feat_lightfm.values).tocsr(),\n",
    "                                 k=5).mean()\n",
    "\n",
    "test_precision"
   ]
  },
  {
   "cell_type": "markdown",
   "metadata": {},
   "source": [
    "0.0024120605  bpr"
   ]
  },
  {
   "cell_type": "markdown",
   "metadata": {},
   "source": [
    "0.0028140703 warp"
   ]
  },
  {
   "cell_type": "markdown",
   "metadata": {},
   "source": [
    "Neural networks for RS: http://d2l.ai/chapter_recommender-systems/mf.html"
   ]
  },
  {
   "cell_type": "markdown",
   "metadata": {},
   "source": [
    "LigthFM -> https://arxiv.org/pdf/1507.08439.pdf\n",
    "\n",
    "https://making.lyst.com/lightfm/docs/home.html\n"
   ]
  },
  {
   "cell_type": "markdown",
   "metadata": {},
   "source": [
    "predictions - некоторые числа. "
   ]
  },
  {
   "cell_type": "markdown",
   "metadata": {},
   "source": [
    "# Домашнее задание"
   ]
  },
  {
   "cell_type": "code",
   "execution_count": 72,
   "metadata": {},
   "outputs": [],
   "source": [
    "import datetime\n",
    "from sklearn.model_selection import ParameterGrid"
   ]
  },
  {
   "cell_type": "code",
   "execution_count": 73,
   "metadata": {},
   "outputs": [],
   "source": [
    "def grid_search(param_grid):\n",
    "    time = datetime.datetime.now()\n",
    "    results = dict()\n",
    "    grid = list(ParameterGrid(param_grid))\n",
    "    cnt = 0\n",
    "    \n",
    "    for params in grid:\n",
    "        cnt += 1\n",
    "        results[cnt] = params\n",
    "        \n",
    "        model = LightFM(\n",
    "            random_state=42,\n",
    "            **params,\n",
    "        )\n",
    "        \n",
    "        model.fit(\n",
    "            (sparse_user_item > 0) * 1,  # user-item matrix из 0 и 1\n",
    "            sample_weight=coo_matrix(user_item_matrix),\n",
    "            user_features=csr_matrix(user_feat_lightfm.values).tocsr(),\n",
    "            item_features=csr_matrix(item_feat_lightfm.values).tocsr(),\n",
    "            epochs=1, \n",
    "            num_threads=4,\n",
    "            verbose=False,\n",
    "        )\n",
    "\n",
    "        precision = precision_at_k(\n",
    "            model,\n",
    "            csr_matrix(test_user_item_matrix).tocsr(),\n",
    "            user_features=csr_matrix(user_feat_lightfm.values).tocsr(),\n",
    "            item_features=csr_matrix(item_feat_lightfm.values).tocsr(),\n",
    "            k=5\n",
    "        )\n",
    "\n",
    "        results[cnt].update({'precision_at_k': precision.mean()})\n",
    "\n",
    "        print(f'Iteration {cnt} from {len(grid)} {datetime.datetime.now()} (spent {datetime.datetime.now() - time})')\n",
    "        print(results[cnt])\n",
    "        time = datetime.datetime.now()\n",
    "\n",
    "    return results"
   ]
  },
  {
   "cell_type": "code",
   "execution_count": 74,
   "metadata": {},
   "outputs": [
    {
     "name": "stdout",
     "output_type": "stream",
     "text": [
      "Iteration 1 from 288 2022-03-05 14:09:09.430828 (spent 0:00:03.345517)\n",
      "{'item_alpha': 0, 'learning_rate': 0.01, 'loss': 'bpr', 'max_sampled': 5, 'no_components': 10, 'user_alpha': 0, 'precision_at_k': 0.0016080402}\n",
      "Iteration 2 from 288 2022-03-05 14:09:12.359395 (spent 0:00:02.928567)\n",
      "{'item_alpha': 0, 'learning_rate': 0.01, 'loss': 'bpr', 'max_sampled': 5, 'no_components': 10, 'user_alpha': 0.5, 'precision_at_k': 0.0014070353}\n",
      "Iteration 3 from 288 2022-03-05 14:09:17.627636 (spent 0:00:05.267265)\n",
      "{'item_alpha': 0, 'learning_rate': 0.01, 'loss': 'bpr', 'max_sampled': 5, 'no_components': 20, 'user_alpha': 0, 'precision_at_k': 0.0017085428}\n",
      "Iteration 4 from 288 2022-03-05 14:09:22.132377 (spent 0:00:04.504741)\n",
      "{'item_alpha': 0, 'learning_rate': 0.01, 'loss': 'bpr', 'max_sampled': 5, 'no_components': 20, 'user_alpha': 0.5, 'precision_at_k': 0.0027135678}\n",
      "Iteration 5 from 288 2022-03-05 14:09:31.242357 (spent 0:00:09.109980)\n",
      "{'item_alpha': 0, 'learning_rate': 0.01, 'loss': 'bpr', 'max_sampled': 5, 'no_components': 40, 'user_alpha': 0, 'precision_at_k': 0.0013065326}\n",
      "Iteration 6 from 288 2022-03-05 14:09:38.888885 (spent 0:00:07.646528)\n",
      "{'item_alpha': 0, 'learning_rate': 0.01, 'loss': 'bpr', 'max_sampled': 5, 'no_components': 40, 'user_alpha': 0.5, 'precision_at_k': 0.0051256283}\n",
      "Iteration 7 from 288 2022-03-05 14:09:52.656899 (spent 0:00:13.768014)\n",
      "{'item_alpha': 0, 'learning_rate': 0.01, 'loss': 'bpr', 'max_sampled': 5, 'no_components': 64, 'user_alpha': 0, 'precision_at_k': 0.0011055276}\n",
      "Iteration 8 from 288 2022-03-05 14:10:04.027510 (spent 0:00:11.370611)\n",
      "{'item_alpha': 0, 'learning_rate': 0.01, 'loss': 'bpr', 'max_sampled': 5, 'no_components': 64, 'user_alpha': 0.5, 'precision_at_k': 0.0009045226}\n",
      "Iteration 9 from 288 2022-03-05 14:10:07.379877 (spent 0:00:03.352367)\n",
      "{'item_alpha': 0, 'learning_rate': 0.01, 'loss': 'bpr', 'max_sampled': 10, 'no_components': 10, 'user_alpha': 0, 'precision_at_k': 0.0016080402}\n",
      "Iteration 10 from 288 2022-03-05 14:10:10.329880 (spent 0:00:02.950003)\n",
      "{'item_alpha': 0, 'learning_rate': 0.01, 'loss': 'bpr', 'max_sampled': 10, 'no_components': 10, 'user_alpha': 0.5, 'precision_at_k': 0.0014070353}\n",
      "Iteration 11 from 288 2022-03-05 14:10:15.648911 (spent 0:00:05.319031)\n",
      "{'item_alpha': 0, 'learning_rate': 0.01, 'loss': 'bpr', 'max_sampled': 10, 'no_components': 20, 'user_alpha': 0, 'precision_at_k': 0.0017085428}\n",
      "Iteration 12 from 288 2022-03-05 14:10:20.145852 (spent 0:00:04.496941)\n",
      "{'item_alpha': 0, 'learning_rate': 0.01, 'loss': 'bpr', 'max_sampled': 10, 'no_components': 20, 'user_alpha': 0.5, 'precision_at_k': 0.0027135678}\n",
      "Iteration 13 from 288 2022-03-05 14:10:29.265653 (spent 0:00:09.118816)\n",
      "{'item_alpha': 0, 'learning_rate': 0.01, 'loss': 'bpr', 'max_sampled': 10, 'no_components': 40, 'user_alpha': 0, 'precision_at_k': 0.0013065326}\n",
      "Iteration 14 from 288 2022-03-05 14:10:36.878009 (spent 0:00:07.612356)\n",
      "{'item_alpha': 0, 'learning_rate': 0.01, 'loss': 'bpr', 'max_sampled': 10, 'no_components': 40, 'user_alpha': 0.5, 'precision_at_k': 0.0051256283}\n",
      "Iteration 15 from 288 2022-03-05 14:10:50.613267 (spent 0:00:13.735258)\n",
      "{'item_alpha': 0, 'learning_rate': 0.01, 'loss': 'bpr', 'max_sampled': 10, 'no_components': 64, 'user_alpha': 0, 'precision_at_k': 0.0011055276}\n",
      "Iteration 16 from 288 2022-03-05 14:11:02.033576 (spent 0:00:11.420309)\n",
      "{'item_alpha': 0, 'learning_rate': 0.01, 'loss': 'bpr', 'max_sampled': 10, 'no_components': 64, 'user_alpha': 0.5, 'precision_at_k': 0.0009045226}\n",
      "Iteration 17 from 288 2022-03-05 14:11:05.446984 (spent 0:00:03.413408)\n",
      "{'item_alpha': 0, 'learning_rate': 0.01, 'loss': 'bpr', 'max_sampled': 15, 'no_components': 10, 'user_alpha': 0, 'precision_at_k': 0.0016080402}\n",
      "Iteration 18 from 288 2022-03-05 14:11:08.410081 (spent 0:00:02.962120)\n",
      "{'item_alpha': 0, 'learning_rate': 0.01, 'loss': 'bpr', 'max_sampled': 15, 'no_components': 10, 'user_alpha': 0.5, 'precision_at_k': 0.0014070353}\n",
      "Iteration 19 from 288 2022-03-05 14:11:13.684265 (spent 0:00:05.274184)\n",
      "{'item_alpha': 0, 'learning_rate': 0.01, 'loss': 'bpr', 'max_sampled': 15, 'no_components': 20, 'user_alpha': 0, 'precision_at_k': 0.0017085428}\n",
      "Iteration 20 from 288 2022-03-05 14:11:18.195042 (spent 0:00:04.510777)\n",
      "{'item_alpha': 0, 'learning_rate': 0.01, 'loss': 'bpr', 'max_sampled': 15, 'no_components': 20, 'user_alpha': 0.5, 'precision_at_k': 0.0027135678}\n",
      "Iteration 21 from 288 2022-03-05 14:11:27.299162 (spent 0:00:09.104120)\n",
      "{'item_alpha': 0, 'learning_rate': 0.01, 'loss': 'bpr', 'max_sampled': 15, 'no_components': 40, 'user_alpha': 0, 'precision_at_k': 0.0013065326}\n",
      "Iteration 22 from 288 2022-03-05 14:11:34.922059 (spent 0:00:07.622897)\n",
      "{'item_alpha': 0, 'learning_rate': 0.01, 'loss': 'bpr', 'max_sampled': 15, 'no_components': 40, 'user_alpha': 0.5, 'precision_at_k': 0.0051256283}\n",
      "Iteration 23 from 288 2022-03-05 14:11:48.715937 (spent 0:00:13.793878)\n",
      "{'item_alpha': 0, 'learning_rate': 0.01, 'loss': 'bpr', 'max_sampled': 15, 'no_components': 64, 'user_alpha': 0, 'precision_at_k': 0.0011055276}\n",
      "Iteration 24 from 288 2022-03-05 14:12:00.110474 (spent 0:00:11.394537)\n",
      "{'item_alpha': 0, 'learning_rate': 0.01, 'loss': 'bpr', 'max_sampled': 15, 'no_components': 64, 'user_alpha': 0.5, 'precision_at_k': 0.0009045226}\n",
      "Iteration 25 from 288 2022-03-05 14:12:03.299198 (spent 0:00:03.188724)\n",
      "{'item_alpha': 0, 'learning_rate': 0.01, 'loss': 'warp', 'max_sampled': 5, 'no_components': 10, 'user_alpha': 0, 'precision_at_k': 0.0016080401}\n",
      "Iteration 26 from 288 2022-03-05 14:12:06.449467 (spent 0:00:03.150269)\n",
      "{'item_alpha': 0, 'learning_rate': 0.01, 'loss': 'warp', 'max_sampled': 5, 'no_components': 10, 'user_alpha': 0.5, 'precision_at_k': 0.0019095478}\n",
      "Iteration 27 from 288 2022-03-05 14:12:11.409141 (spent 0:00:04.959674)\n",
      "{'item_alpha': 0, 'learning_rate': 0.01, 'loss': 'warp', 'max_sampled': 5, 'no_components': 20, 'user_alpha': 0, 'precision_at_k': 0.0014070352}\n",
      "Iteration 28 from 288 2022-03-05 14:12:16.218602 (spent 0:00:04.809461)\n",
      "{'item_alpha': 0, 'learning_rate': 0.01, 'loss': 'warp', 'max_sampled': 5, 'no_components': 20, 'user_alpha': 0.5, 'precision_at_k': 0.0008040201}\n",
      "Iteration 29 from 288 2022-03-05 14:12:24.751442 (spent 0:00:08.532840)\n",
      "{'item_alpha': 0, 'learning_rate': 0.01, 'loss': 'warp', 'max_sampled': 5, 'no_components': 40, 'user_alpha': 0, 'precision_at_k': 0.0019095478}\n",
      "Iteration 30 from 288 2022-03-05 14:12:32.737018 (spent 0:00:07.985576)\n",
      "{'item_alpha': 0, 'learning_rate': 0.01, 'loss': 'warp', 'max_sampled': 5, 'no_components': 40, 'user_alpha': 0.5, 'precision_at_k': 0.0011055276}\n",
      "Iteration 31 from 288 2022-03-05 14:12:45.429296 (spent 0:00:12.692278)\n",
      "{'item_alpha': 0, 'learning_rate': 0.01, 'loss': 'warp', 'max_sampled': 5, 'no_components': 64, 'user_alpha': 0, 'precision_at_k': 0.0020100502}\n",
      "Iteration 32 from 288 2022-03-05 14:12:57.260885 (spent 0:00:11.831589)\n",
      "{'item_alpha': 0, 'learning_rate': 0.01, 'loss': 'warp', 'max_sampled': 5, 'no_components': 64, 'user_alpha': 0.5, 'precision_at_k': 0.0030150753}\n",
      "Iteration 33 from 288 2022-03-05 14:13:00.498969 (spent 0:00:03.238084)\n",
      "{'item_alpha': 0, 'learning_rate': 0.01, 'loss': 'warp', 'max_sampled': 10, 'no_components': 10, 'user_alpha': 0, 'precision_at_k': 0.0020100502}\n",
      "Iteration 34 from 288 2022-03-05 14:13:03.820578 (spent 0:00:03.321609)\n",
      "{'item_alpha': 0, 'learning_rate': 0.01, 'loss': 'warp', 'max_sampled': 10, 'no_components': 10, 'user_alpha': 0.5, 'precision_at_k': 0.0019095478}\n",
      "Iteration 35 from 288 2022-03-05 14:13:08.952739 (spent 0:00:05.132161)\n",
      "{'item_alpha': 0, 'learning_rate': 0.01, 'loss': 'warp', 'max_sampled': 10, 'no_components': 20, 'user_alpha': 0, 'precision_at_k': 0.0015075377}\n",
      "Iteration 36 from 288 2022-03-05 14:13:13.978357 (spent 0:00:05.025618)\n",
      "{'item_alpha': 0, 'learning_rate': 0.01, 'loss': 'warp', 'max_sampled': 10, 'no_components': 20, 'user_alpha': 0.5, 'precision_at_k': 0.0008040201}\n",
      "Iteration 37 from 288 2022-03-05 14:13:22.758030 (spent 0:00:08.779673)\n",
      "{'item_alpha': 0, 'learning_rate': 0.01, 'loss': 'warp', 'max_sampled': 10, 'no_components': 40, 'user_alpha': 0, 'precision_at_k': 0.0018090453}\n",
      "Iteration 38 from 288 2022-03-05 14:13:31.232640 (spent 0:00:08.474610)\n",
      "{'item_alpha': 0, 'learning_rate': 0.01, 'loss': 'warp', 'max_sampled': 10, 'no_components': 40, 'user_alpha': 0.5, 'precision_at_k': 0.0011055276}\n"
     ]
    },
    {
     "name": "stdout",
     "output_type": "stream",
     "text": [
      "Iteration 39 from 288 2022-03-05 14:13:44.347177 (spent 0:00:13.114537)\n",
      "{'item_alpha': 0, 'learning_rate': 0.01, 'loss': 'warp', 'max_sampled': 10, 'no_components': 64, 'user_alpha': 0, 'precision_at_k': 0.003115578}\n",
      "Iteration 40 from 288 2022-03-05 14:13:56.968902 (spent 0:00:12.621725)\n",
      "{'item_alpha': 0, 'learning_rate': 0.01, 'loss': 'warp', 'max_sampled': 10, 'no_components': 64, 'user_alpha': 0.5, 'precision_at_k': 0.0030150753}\n",
      "Iteration 41 from 288 2022-03-05 14:14:00.266565 (spent 0:00:03.297663)\n",
      "{'item_alpha': 0, 'learning_rate': 0.01, 'loss': 'warp', 'max_sampled': 15, 'no_components': 10, 'user_alpha': 0, 'precision_at_k': 0.0017085428}\n",
      "Iteration 42 from 288 2022-03-05 14:14:03.551786 (spent 0:00:03.284244)\n",
      "{'item_alpha': 0, 'learning_rate': 0.01, 'loss': 'warp', 'max_sampled': 15, 'no_components': 10, 'user_alpha': 0.5, 'precision_at_k': 0.0016080402}\n",
      "Iteration 43 from 288 2022-03-05 14:14:08.731293 (spent 0:00:05.179507)\n",
      "{'item_alpha': 0, 'learning_rate': 0.01, 'loss': 'warp', 'max_sampled': 15, 'no_components': 20, 'user_alpha': 0, 'precision_at_k': 0.002110553}\n",
      "Iteration 44 from 288 2022-03-05 14:14:13.878530 (spent 0:00:05.147237)\n",
      "{'item_alpha': 0, 'learning_rate': 0.01, 'loss': 'warp', 'max_sampled': 15, 'no_components': 20, 'user_alpha': 0.5, 'precision_at_k': 0.0008040201}\n",
      "Iteration 45 from 288 2022-03-05 14:14:22.751265 (spent 0:00:08.872735)\n",
      "{'item_alpha': 0, 'learning_rate': 0.01, 'loss': 'warp', 'max_sampled': 15, 'no_components': 40, 'user_alpha': 0, 'precision_at_k': 0.0018090453}\n",
      "Iteration 46 from 288 2022-03-05 14:14:31.463804 (spent 0:00:08.712539)\n",
      "{'item_alpha': 0, 'learning_rate': 0.01, 'loss': 'warp', 'max_sampled': 15, 'no_components': 40, 'user_alpha': 0.5, 'precision_at_k': 0.0011055276}\n",
      "Iteration 47 from 288 2022-03-05 14:14:44.794700 (spent 0:00:13.330896)\n",
      "{'item_alpha': 0, 'learning_rate': 0.01, 'loss': 'warp', 'max_sampled': 15, 'no_components': 64, 'user_alpha': 0, 'precision_at_k': 0.003517588}\n",
      "Iteration 48 from 288 2022-03-05 14:14:57.795532 (spent 0:00:13.000832)\n",
      "{'item_alpha': 0, 'learning_rate': 0.01, 'loss': 'warp', 'max_sampled': 15, 'no_components': 64, 'user_alpha': 0.5, 'precision_at_k': 0.0030150753}\n",
      "Iteration 49 from 288 2022-03-05 14:15:01.122633 (spent 0:00:03.327101)\n",
      "{'item_alpha': 0, 'learning_rate': 0.05, 'loss': 'bpr', 'max_sampled': 5, 'no_components': 10, 'user_alpha': 0, 'precision_at_k': 0.0013065328}\n",
      "Iteration 50 from 288 2022-03-05 14:15:04.060891 (spent 0:00:02.938258)\n",
      "{'item_alpha': 0, 'learning_rate': 0.05, 'loss': 'bpr', 'max_sampled': 5, 'no_components': 10, 'user_alpha': 0.5, 'precision_at_k': 0.0027135676}\n",
      "Iteration 51 from 288 2022-03-05 14:15:09.234966 (spent 0:00:05.174075)\n",
      "{'item_alpha': 0, 'learning_rate': 0.05, 'loss': 'bpr', 'max_sampled': 5, 'no_components': 20, 'user_alpha': 0, 'precision_at_k': 0.0018090452}\n",
      "Iteration 52 from 288 2022-03-05 14:15:13.740235 (spent 0:00:04.505269)\n",
      "{'item_alpha': 0, 'learning_rate': 0.05, 'loss': 'bpr', 'max_sampled': 5, 'no_components': 20, 'user_alpha': 0.5, 'precision_at_k': 0.0014070352}\n",
      "Iteration 53 from 288 2022-03-05 14:15:22.918932 (spent 0:00:09.178697)\n",
      "{'item_alpha': 0, 'learning_rate': 0.05, 'loss': 'bpr', 'max_sampled': 5, 'no_components': 40, 'user_alpha': 0, 'precision_at_k': 0.003115578}\n",
      "Iteration 54 from 288 2022-03-05 14:15:30.532475 (spent 0:00:07.613543)\n",
      "{'item_alpha': 0, 'learning_rate': 0.05, 'loss': 'bpr', 'max_sampled': 5, 'no_components': 40, 'user_alpha': 0.5, 'precision_at_k': 0.007236181}\n",
      "Iteration 55 from 288 2022-03-05 14:15:42.409319 (spent 0:00:11.876844)\n",
      "{'item_alpha': 0, 'learning_rate': 0.05, 'loss': 'bpr', 'max_sampled': 5, 'no_components': 64, 'user_alpha': 0, 'precision_at_k': 0.0017085428}\n",
      "Iteration 56 from 288 2022-03-05 14:15:53.796440 (spent 0:00:11.387121)\n",
      "{'item_alpha': 0, 'learning_rate': 0.05, 'loss': 'bpr', 'max_sampled': 5, 'no_components': 64, 'user_alpha': 0.5, 'precision_at_k': 0.0017085428}\n",
      "Iteration 57 from 288 2022-03-05 14:15:57.149811 (spent 0:00:03.352362)\n",
      "{'item_alpha': 0, 'learning_rate': 0.05, 'loss': 'bpr', 'max_sampled': 10, 'no_components': 10, 'user_alpha': 0, 'precision_at_k': 0.0013065328}\n",
      "Iteration 58 from 288 2022-03-05 14:16:00.082232 (spent 0:00:02.932421)\n",
      "{'item_alpha': 0, 'learning_rate': 0.05, 'loss': 'bpr', 'max_sampled': 10, 'no_components': 10, 'user_alpha': 0.5, 'precision_at_k': 0.0027135676}\n",
      "Iteration 59 from 288 2022-03-05 14:16:05.271551 (spent 0:00:05.189319)\n",
      "{'item_alpha': 0, 'learning_rate': 0.05, 'loss': 'bpr', 'max_sampled': 10, 'no_components': 20, 'user_alpha': 0, 'precision_at_k': 0.0018090452}\n",
      "Iteration 60 from 288 2022-03-05 14:16:09.817632 (spent 0:00:04.546081)\n",
      "{'item_alpha': 0, 'learning_rate': 0.05, 'loss': 'bpr', 'max_sampled': 10, 'no_components': 20, 'user_alpha': 0.5, 'precision_at_k': 0.0014070352}\n",
      "Iteration 61 from 288 2022-03-05 14:16:18.934687 (spent 0:00:09.117055)\n",
      "{'item_alpha': 0, 'learning_rate': 0.05, 'loss': 'bpr', 'max_sampled': 10, 'no_components': 40, 'user_alpha': 0, 'precision_at_k': 0.003115578}\n",
      "Iteration 62 from 288 2022-03-05 14:16:26.578538 (spent 0:00:07.643851)\n",
      "{'item_alpha': 0, 'learning_rate': 0.05, 'loss': 'bpr', 'max_sampled': 10, 'no_components': 40, 'user_alpha': 0.5, 'precision_at_k': 0.007236181}\n",
      "Iteration 63 from 288 2022-03-05 14:16:38.506035 (spent 0:00:11.927497)\n",
      "{'item_alpha': 0, 'learning_rate': 0.05, 'loss': 'bpr', 'max_sampled': 10, 'no_components': 64, 'user_alpha': 0, 'precision_at_k': 0.0017085428}\n",
      "Iteration 64 from 288 2022-03-05 14:16:49.887286 (spent 0:00:11.381251)\n",
      "{'item_alpha': 0, 'learning_rate': 0.05, 'loss': 'bpr', 'max_sampled': 10, 'no_components': 64, 'user_alpha': 0.5, 'precision_at_k': 0.0017085428}\n",
      "Iteration 65 from 288 2022-03-05 14:16:53.224566 (spent 0:00:03.337280)\n",
      "{'item_alpha': 0, 'learning_rate': 0.05, 'loss': 'bpr', 'max_sampled': 15, 'no_components': 10, 'user_alpha': 0, 'precision_at_k': 0.0013065328}\n",
      "Iteration 66 from 288 2022-03-05 14:16:56.174105 (spent 0:00:02.949539)\n",
      "{'item_alpha': 0, 'learning_rate': 0.05, 'loss': 'bpr', 'max_sampled': 15, 'no_components': 10, 'user_alpha': 0.5, 'precision_at_k': 0.0027135676}\n",
      "Iteration 67 from 288 2022-03-05 14:17:01.331153 (spent 0:00:05.157048)\n",
      "{'item_alpha': 0, 'learning_rate': 0.05, 'loss': 'bpr', 'max_sampled': 15, 'no_components': 20, 'user_alpha': 0, 'precision_at_k': 0.0018090452}\n",
      "Iteration 68 from 288 2022-03-05 14:17:05.837663 (spent 0:00:04.506510)\n",
      "{'item_alpha': 0, 'learning_rate': 0.05, 'loss': 'bpr', 'max_sampled': 15, 'no_components': 20, 'user_alpha': 0.5, 'precision_at_k': 0.0014070352}\n",
      "Iteration 69 from 288 2022-03-05 14:17:15.020736 (spent 0:00:09.183073)\n",
      "{'item_alpha': 0, 'learning_rate': 0.05, 'loss': 'bpr', 'max_sampled': 15, 'no_components': 40, 'user_alpha': 0, 'precision_at_k': 0.003115578}\n",
      "Iteration 70 from 288 2022-03-05 14:17:22.705635 (spent 0:00:07.684899)\n",
      "{'item_alpha': 0, 'learning_rate': 0.05, 'loss': 'bpr', 'max_sampled': 15, 'no_components': 40, 'user_alpha': 0.5, 'precision_at_k': 0.007236181}\n",
      "Iteration 71 from 288 2022-03-05 14:17:34.630538 (spent 0:00:11.924903)\n",
      "{'item_alpha': 0, 'learning_rate': 0.05, 'loss': 'bpr', 'max_sampled': 15, 'no_components': 64, 'user_alpha': 0, 'precision_at_k': 0.0017085428}\n",
      "Iteration 72 from 288 2022-03-05 14:17:46.050829 (spent 0:00:11.420291)\n",
      "{'item_alpha': 0, 'learning_rate': 0.05, 'loss': 'bpr', 'max_sampled': 15, 'no_components': 64, 'user_alpha': 0.5, 'precision_at_k': 0.0017085428}\n",
      "Iteration 73 from 288 2022-03-05 14:17:49.221521 (spent 0:00:03.170692)\n",
      "{'item_alpha': 0, 'learning_rate': 0.05, 'loss': 'warp', 'max_sampled': 5, 'no_components': 10, 'user_alpha': 0, 'precision_at_k': 0.0025125628}\n",
      "Iteration 74 from 288 2022-03-05 14:17:52.325544 (spent 0:00:03.104023)\n",
      "{'item_alpha': 0, 'learning_rate': 0.05, 'loss': 'warp', 'max_sampled': 5, 'no_components': 10, 'user_alpha': 0.5, 'precision_at_k': 0.0016080402}\n",
      "Iteration 75 from 288 2022-03-05 14:17:57.211951 (spent 0:00:04.886407)\n",
      "{'item_alpha': 0, 'learning_rate': 0.05, 'loss': 'warp', 'max_sampled': 5, 'no_components': 20, 'user_alpha': 0, 'precision_at_k': 0.0026130653}\n",
      "Iteration 76 from 288 2022-03-05 14:18:01.956795 (spent 0:00:04.744844)\n",
      "{'item_alpha': 0, 'learning_rate': 0.05, 'loss': 'warp', 'max_sampled': 5, 'no_components': 20, 'user_alpha': 0.5, 'precision_at_k': 0.0016080402}\n"
     ]
    },
    {
     "name": "stdout",
     "output_type": "stream",
     "text": [
      "Iteration 77 from 288 2022-03-05 14:18:10.282564 (spent 0:00:08.325769)\n",
      "{'item_alpha': 0, 'learning_rate': 0.05, 'loss': 'warp', 'max_sampled': 5, 'no_components': 40, 'user_alpha': 0, 'precision_at_k': 0.0022110553}\n",
      "Iteration 78 from 288 2022-03-05 14:18:18.414027 (spent 0:00:08.131463)\n",
      "{'item_alpha': 0, 'learning_rate': 0.05, 'loss': 'warp', 'max_sampled': 5, 'no_components': 40, 'user_alpha': 0.5, 'precision_at_k': 0.0015075377}\n",
      "Iteration 79 from 288 2022-03-05 14:18:30.799156 (spent 0:00:12.385129)\n",
      "{'item_alpha': 0, 'learning_rate': 0.05, 'loss': 'warp', 'max_sampled': 5, 'no_components': 64, 'user_alpha': 0, 'precision_at_k': 0.0017085428}\n",
      "Iteration 80 from 288 2022-03-05 14:18:42.867170 (spent 0:00:12.067037)\n",
      "{'item_alpha': 0, 'learning_rate': 0.05, 'loss': 'warp', 'max_sampled': 5, 'no_components': 64, 'user_alpha': 0.5, 'precision_at_k': 0.0011055276}\n",
      "Iteration 81 from 288 2022-03-05 14:18:46.099454 (spent 0:00:03.232284)\n",
      "{'item_alpha': 0, 'learning_rate': 0.05, 'loss': 'warp', 'max_sampled': 10, 'no_components': 10, 'user_alpha': 0, 'precision_at_k': 0.0021105527}\n",
      "Iteration 82 from 288 2022-03-05 14:18:49.346316 (spent 0:00:03.246862)\n",
      "{'item_alpha': 0, 'learning_rate': 0.05, 'loss': 'warp', 'max_sampled': 10, 'no_components': 10, 'user_alpha': 0.5, 'precision_at_k': 0.0016080402}\n",
      "Iteration 83 from 288 2022-03-05 14:18:54.400281 (spent 0:00:05.053965)\n",
      "{'item_alpha': 0, 'learning_rate': 0.05, 'loss': 'warp', 'max_sampled': 10, 'no_components': 20, 'user_alpha': 0, 'precision_at_k': 0.0024120605}\n",
      "Iteration 84 from 288 2022-03-05 14:18:59.454681 (spent 0:00:05.054400)\n",
      "{'item_alpha': 0, 'learning_rate': 0.05, 'loss': 'warp', 'max_sampled': 10, 'no_components': 20, 'user_alpha': 0.5, 'precision_at_k': 0.0008040201}\n",
      "Iteration 85 from 288 2022-03-05 14:19:08.107053 (spent 0:00:08.652372)\n",
      "{'item_alpha': 0, 'learning_rate': 0.05, 'loss': 'warp', 'max_sampled': 10, 'no_components': 40, 'user_alpha': 0, 'precision_at_k': 0.0024120605}\n",
      "Iteration 86 from 288 2022-03-05 14:19:16.748112 (spent 0:00:08.641059)\n",
      "{'item_alpha': 0, 'learning_rate': 0.05, 'loss': 'warp', 'max_sampled': 10, 'no_components': 40, 'user_alpha': 0.5, 'precision_at_k': 0.0016080402}\n",
      "Iteration 87 from 288 2022-03-05 14:19:29.666876 (spent 0:00:12.918764)\n",
      "{'item_alpha': 0, 'learning_rate': 0.05, 'loss': 'warp', 'max_sampled': 10, 'no_components': 64, 'user_alpha': 0, 'precision_at_k': 0.002110553}\n",
      "Iteration 88 from 288 2022-03-05 14:19:42.642785 (spent 0:00:12.975909)\n",
      "{'item_alpha': 0, 'learning_rate': 0.05, 'loss': 'warp', 'max_sampled': 10, 'no_components': 64, 'user_alpha': 0.5, 'precision_at_k': 0.0011055276}\n",
      "Iteration 89 from 288 2022-03-05 14:19:45.927767 (spent 0:00:03.284982)\n",
      "{'item_alpha': 0, 'learning_rate': 0.05, 'loss': 'warp', 'max_sampled': 15, 'no_components': 10, 'user_alpha': 0, 'precision_at_k': 0.0027135678}\n",
      "Iteration 90 from 288 2022-03-05 14:19:49.239684 (spent 0:00:03.310939)\n",
      "{'item_alpha': 0, 'learning_rate': 0.05, 'loss': 'warp', 'max_sampled': 15, 'no_components': 10, 'user_alpha': 0.5, 'precision_at_k': 0.0019095478}\n",
      "Iteration 91 from 288 2022-03-05 14:19:54.362406 (spent 0:00:05.122722)\n",
      "{'item_alpha': 0, 'learning_rate': 0.05, 'loss': 'warp', 'max_sampled': 15, 'no_components': 20, 'user_alpha': 0, 'precision_at_k': 0.0024120605}\n",
      "Iteration 92 from 288 2022-03-05 14:19:59.539991 (spent 0:00:05.177585)\n",
      "{'item_alpha': 0, 'learning_rate': 0.05, 'loss': 'warp', 'max_sampled': 15, 'no_components': 20, 'user_alpha': 0.5, 'precision_at_k': 0.0008040201}\n",
      "Iteration 93 from 288 2022-03-05 14:20:08.332792 (spent 0:00:08.792801)\n",
      "{'item_alpha': 0, 'learning_rate': 0.05, 'loss': 'warp', 'max_sampled': 15, 'no_components': 40, 'user_alpha': 0, 'precision_at_k': 0.002311558}\n",
      "Iteration 94 from 288 2022-03-05 14:20:17.228522 (spent 0:00:08.895730)\n",
      "{'item_alpha': 0, 'learning_rate': 0.05, 'loss': 'warp', 'max_sampled': 15, 'no_components': 40, 'user_alpha': 0.5, 'precision_at_k': 0.0016080402}\n",
      "Iteration 95 from 288 2022-03-05 14:20:30.447442 (spent 0:00:13.217948)\n",
      "{'item_alpha': 0, 'learning_rate': 0.05, 'loss': 'warp', 'max_sampled': 15, 'no_components': 64, 'user_alpha': 0, 'precision_at_k': 0.0027135678}\n",
      "Iteration 96 from 288 2022-03-05 14:20:43.762269 (spent 0:00:13.314827)\n",
      "{'item_alpha': 0, 'learning_rate': 0.05, 'loss': 'warp', 'max_sampled': 15, 'no_components': 64, 'user_alpha': 0.5, 'precision_at_k': 0.0012060303}\n",
      "Iteration 97 from 288 2022-03-05 14:20:47.096657 (spent 0:00:03.334388)\n",
      "{'item_alpha': 0, 'learning_rate': 0.1, 'loss': 'bpr', 'max_sampled': 5, 'no_components': 10, 'user_alpha': 0, 'precision_at_k': 0.0021105527}\n",
      "Iteration 98 from 288 2022-03-05 14:20:50.031040 (spent 0:00:02.934383)\n",
      "{'item_alpha': 0, 'learning_rate': 0.1, 'loss': 'bpr', 'max_sampled': 5, 'no_components': 10, 'user_alpha': 0.5, 'precision_at_k': 0.0022110553}\n",
      "Iteration 99 from 288 2022-03-05 14:20:54.851293 (spent 0:00:04.819274)\n",
      "{'item_alpha': 0, 'learning_rate': 0.1, 'loss': 'bpr', 'max_sampled': 5, 'no_components': 20, 'user_alpha': 0, 'precision_at_k': 0.002311558}\n",
      "Iteration 100 from 288 2022-03-05 14:20:59.402916 (spent 0:00:04.551623)\n",
      "{'item_alpha': 0, 'learning_rate': 0.1, 'loss': 'bpr', 'max_sampled': 5, 'no_components': 20, 'user_alpha': 0.5, 'precision_at_k': 0.0018090453}\n",
      "Iteration 101 from 288 2022-03-05 14:21:07.988200 (spent 0:00:08.585284)\n",
      "{'item_alpha': 0, 'learning_rate': 0.1, 'loss': 'bpr', 'max_sampled': 5, 'no_components': 40, 'user_alpha': 0, 'precision_at_k': 0.0075376886}\n",
      "Iteration 102 from 288 2022-03-05 14:21:15.658517 (spent 0:00:07.670317)\n",
      "{'item_alpha': 0, 'learning_rate': 0.1, 'loss': 'bpr', 'max_sampled': 5, 'no_components': 40, 'user_alpha': 0.5, 'precision_at_k': 0.0017085428}\n",
      "Iteration 103 from 288 2022-03-05 14:21:27.056512 (spent 0:00:11.397995)\n",
      "{'item_alpha': 0, 'learning_rate': 0.1, 'loss': 'bpr', 'max_sampled': 5, 'no_components': 64, 'user_alpha': 0, 'precision_at_k': 0.0013065326}\n",
      "Iteration 104 from 288 2022-03-05 14:21:38.528847 (spent 0:00:11.472335)\n",
      "{'item_alpha': 0, 'learning_rate': 0.1, 'loss': 'bpr', 'max_sampled': 5, 'no_components': 64, 'user_alpha': 0.5, 'precision_at_k': 0.0026130653}\n",
      "Iteration 105 from 288 2022-03-05 14:21:41.858486 (spent 0:00:03.329639)\n",
      "{'item_alpha': 0, 'learning_rate': 0.1, 'loss': 'bpr', 'max_sampled': 10, 'no_components': 10, 'user_alpha': 0, 'precision_at_k': 0.0021105527}\n",
      "Iteration 106 from 288 2022-03-05 14:21:44.776265 (spent 0:00:02.917779)\n",
      "{'item_alpha': 0, 'learning_rate': 0.1, 'loss': 'bpr', 'max_sampled': 10, 'no_components': 10, 'user_alpha': 0.5, 'precision_at_k': 0.0022110553}\n",
      "Iteration 107 from 288 2022-03-05 14:21:49.586158 (spent 0:00:04.809893)\n",
      "{'item_alpha': 0, 'learning_rate': 0.1, 'loss': 'bpr', 'max_sampled': 10, 'no_components': 20, 'user_alpha': 0, 'precision_at_k': 0.002311558}\n",
      "Iteration 108 from 288 2022-03-05 14:21:54.139716 (spent 0:00:04.553558)\n",
      "{'item_alpha': 0, 'learning_rate': 0.1, 'loss': 'bpr', 'max_sampled': 10, 'no_components': 20, 'user_alpha': 0.5, 'precision_at_k': 0.0018090453}\n",
      "Iteration 109 from 288 2022-03-05 14:22:02.701772 (spent 0:00:08.562056)\n",
      "{'item_alpha': 0, 'learning_rate': 0.1, 'loss': 'bpr', 'max_sampled': 10, 'no_components': 40, 'user_alpha': 0, 'precision_at_k': 0.0075376886}\n",
      "Iteration 110 from 288 2022-03-05 14:22:10.321726 (spent 0:00:07.619954)\n",
      "{'item_alpha': 0, 'learning_rate': 0.1, 'loss': 'bpr', 'max_sampled': 10, 'no_components': 40, 'user_alpha': 0.5, 'precision_at_k': 0.0017085428}\n",
      "Iteration 111 from 288 2022-03-05 14:22:21.732706 (spent 0:00:11.410980)\n",
      "{'item_alpha': 0, 'learning_rate': 0.1, 'loss': 'bpr', 'max_sampled': 10, 'no_components': 64, 'user_alpha': 0, 'precision_at_k': 0.0013065326}\n",
      "Iteration 112 from 288 2022-03-05 14:22:33.109821 (spent 0:00:11.376131)\n",
      "{'item_alpha': 0, 'learning_rate': 0.1, 'loss': 'bpr', 'max_sampled': 10, 'no_components': 64, 'user_alpha': 0.5, 'precision_at_k': 0.0026130653}\n",
      "Iteration 113 from 288 2022-03-05 14:22:36.421944 (spent 0:00:03.312123)\n",
      "{'item_alpha': 0, 'learning_rate': 0.1, 'loss': 'bpr', 'max_sampled': 15, 'no_components': 10, 'user_alpha': 0, 'precision_at_k': 0.0021105527}\n",
      "Iteration 114 from 288 2022-03-05 14:22:39.364140 (spent 0:00:02.942196)\n",
      "{'item_alpha': 0, 'learning_rate': 0.1, 'loss': 'bpr', 'max_sampled': 15, 'no_components': 10, 'user_alpha': 0.5, 'precision_at_k': 0.0022110553}\n"
     ]
    },
    {
     "name": "stdout",
     "output_type": "stream",
     "text": [
      "Iteration 115 from 288 2022-03-05 14:22:44.176405 (spent 0:00:04.812265)\n",
      "{'item_alpha': 0, 'learning_rate': 0.1, 'loss': 'bpr', 'max_sampled': 15, 'no_components': 20, 'user_alpha': 0, 'precision_at_k': 0.002311558}\n",
      "Iteration 116 from 288 2022-03-05 14:22:48.668503 (spent 0:00:04.492098)\n",
      "{'item_alpha': 0, 'learning_rate': 0.1, 'loss': 'bpr', 'max_sampled': 15, 'no_components': 20, 'user_alpha': 0.5, 'precision_at_k': 0.0018090453}\n",
      "Iteration 117 from 288 2022-03-05 14:22:57.212932 (spent 0:00:08.544429)\n",
      "{'item_alpha': 0, 'learning_rate': 0.1, 'loss': 'bpr', 'max_sampled': 15, 'no_components': 40, 'user_alpha': 0, 'precision_at_k': 0.0075376886}\n",
      "Iteration 118 from 288 2022-03-05 14:23:04.821586 (spent 0:00:07.608654)\n",
      "{'item_alpha': 0, 'learning_rate': 0.1, 'loss': 'bpr', 'max_sampled': 15, 'no_components': 40, 'user_alpha': 0.5, 'precision_at_k': 0.0017085428}\n",
      "Iteration 119 from 288 2022-03-05 14:23:16.260030 (spent 0:00:11.437467)\n",
      "{'item_alpha': 0, 'learning_rate': 0.1, 'loss': 'bpr', 'max_sampled': 15, 'no_components': 64, 'user_alpha': 0, 'precision_at_k': 0.0013065326}\n",
      "Iteration 120 from 288 2022-03-05 14:23:27.656837 (spent 0:00:11.396807)\n",
      "{'item_alpha': 0, 'learning_rate': 0.1, 'loss': 'bpr', 'max_sampled': 15, 'no_components': 64, 'user_alpha': 0.5, 'precision_at_k': 0.0026130653}\n",
      "Iteration 121 from 288 2022-03-05 14:23:30.758203 (spent 0:00:03.101366)\n",
      "{'item_alpha': 0, 'learning_rate': 0.1, 'loss': 'warp', 'max_sampled': 5, 'no_components': 10, 'user_alpha': 0, 'precision_at_k': 0.0022110553}\n",
      "Iteration 122 from 288 2022-03-05 14:23:33.797885 (spent 0:00:03.039682)\n",
      "{'item_alpha': 0, 'learning_rate': 0.1, 'loss': 'warp', 'max_sampled': 5, 'no_components': 10, 'user_alpha': 0.5, 'precision_at_k': 0.002914573}\n",
      "Iteration 123 from 288 2022-03-05 14:23:38.430507 (spent 0:00:04.632622)\n",
      "{'item_alpha': 0, 'learning_rate': 0.1, 'loss': 'warp', 'max_sampled': 5, 'no_components': 20, 'user_alpha': 0, 'precision_at_k': 0.0018090452}\n",
      "Iteration 124 from 288 2022-03-05 14:23:43.125185 (spent 0:00:04.694678)\n",
      "{'item_alpha': 0, 'learning_rate': 0.1, 'loss': 'warp', 'max_sampled': 5, 'no_components': 20, 'user_alpha': 0.5, 'precision_at_k': 0.0025125628}\n",
      "Iteration 125 from 288 2022-03-05 14:23:50.927438 (spent 0:00:07.802253)\n",
      "{'item_alpha': 0, 'learning_rate': 0.1, 'loss': 'warp', 'max_sampled': 5, 'no_components': 40, 'user_alpha': 0, 'precision_at_k': 0.0024120605}\n",
      "Iteration 126 from 288 2022-03-05 14:23:58.899246 (spent 0:00:07.970832)\n",
      "{'item_alpha': 0, 'learning_rate': 0.1, 'loss': 'warp', 'max_sampled': 5, 'no_components': 40, 'user_alpha': 0.5, 'precision_at_k': 0.0017085428}\n",
      "Iteration 127 from 288 2022-03-05 14:24:10.317650 (spent 0:00:11.418404)\n",
      "{'item_alpha': 0, 'learning_rate': 0.1, 'loss': 'warp', 'max_sampled': 5, 'no_components': 64, 'user_alpha': 0, 'precision_at_k': 0.0042211055}\n",
      "Iteration 128 from 288 2022-03-05 14:24:22.275100 (spent 0:00:11.957450)\n",
      "{'item_alpha': 0, 'learning_rate': 0.1, 'loss': 'warp', 'max_sampled': 5, 'no_components': 64, 'user_alpha': 0.5, 'precision_at_k': 0.0023115578}\n",
      "Iteration 129 from 288 2022-03-05 14:24:25.459467 (spent 0:00:03.184367)\n",
      "{'item_alpha': 0, 'learning_rate': 0.1, 'loss': 'warp', 'max_sampled': 10, 'no_components': 10, 'user_alpha': 0, 'precision_at_k': 0.0025125628}\n",
      "Iteration 130 from 288 2022-03-05 14:24:28.663114 (spent 0:00:03.203647)\n",
      "{'item_alpha': 0, 'learning_rate': 0.1, 'loss': 'warp', 'max_sampled': 10, 'no_components': 10, 'user_alpha': 0.5, 'precision_at_k': 0.0015075377}\n",
      "Iteration 131 from 288 2022-03-05 14:24:33.623949 (spent 0:00:04.960835)\n",
      "{'item_alpha': 0, 'learning_rate': 0.1, 'loss': 'warp', 'max_sampled': 10, 'no_components': 20, 'user_alpha': 0, 'precision_at_k': 0.0036180906}\n",
      "Iteration 132 from 288 2022-03-05 14:24:38.632121 (spent 0:00:05.008172)\n",
      "{'item_alpha': 0, 'learning_rate': 0.1, 'loss': 'warp', 'max_sampled': 10, 'no_components': 20, 'user_alpha': 0.5, 'precision_at_k': 0.0020100502}\n",
      "Iteration 133 from 288 2022-03-05 14:24:46.987842 (spent 0:00:08.355721)\n",
      "{'item_alpha': 0, 'learning_rate': 0.1, 'loss': 'warp', 'max_sampled': 10, 'no_components': 40, 'user_alpha': 0, 'precision_at_k': 0.0011055276}\n",
      "Iteration 134 from 288 2022-03-05 14:24:55.730983 (spent 0:00:08.743141)\n",
      "{'item_alpha': 0, 'learning_rate': 0.1, 'loss': 'warp', 'max_sampled': 10, 'no_components': 40, 'user_alpha': 0.5, 'precision_at_k': 0.0025125628}\n",
      "Iteration 135 from 288 2022-03-05 14:25:08.137568 (spent 0:00:12.406585)\n",
      "{'item_alpha': 0, 'learning_rate': 0.1, 'loss': 'warp', 'max_sampled': 10, 'no_components': 64, 'user_alpha': 0, 'precision_at_k': 0.004321608}\n",
      "Iteration 136 from 288 2022-03-05 14:25:21.020818 (spent 0:00:12.883250)\n",
      "{'item_alpha': 0, 'learning_rate': 0.1, 'loss': 'warp', 'max_sampled': 10, 'no_components': 64, 'user_alpha': 0.5, 'precision_at_k': 0.002311558}\n",
      "Iteration 137 from 288 2022-03-05 14:25:24.282325 (spent 0:00:03.261507)\n",
      "{'item_alpha': 0, 'learning_rate': 0.1, 'loss': 'warp', 'max_sampled': 15, 'no_components': 10, 'user_alpha': 0, 'precision_at_k': 0.002311558}\n",
      "Iteration 138 from 288 2022-03-05 14:25:27.575821 (spent 0:00:03.293496)\n",
      "{'item_alpha': 0, 'learning_rate': 0.1, 'loss': 'warp', 'max_sampled': 15, 'no_components': 10, 'user_alpha': 0.5, 'precision_at_k': 0.0017085428}\n",
      "Iteration 139 from 288 2022-03-05 14:25:32.629634 (spent 0:00:05.053813)\n",
      "{'item_alpha': 0, 'learning_rate': 0.1, 'loss': 'warp', 'max_sampled': 15, 'no_components': 20, 'user_alpha': 0, 'precision_at_k': 0.0028140703}\n",
      "Iteration 140 from 288 2022-03-05 14:25:37.777911 (spent 0:00:05.148277)\n",
      "{'item_alpha': 0, 'learning_rate': 0.1, 'loss': 'warp', 'max_sampled': 15, 'no_components': 20, 'user_alpha': 0.5, 'precision_at_k': 0.0022110553}\n",
      "Iteration 141 from 288 2022-03-05 14:25:46.344090 (spent 0:00:08.566179)\n",
      "{'item_alpha': 0, 'learning_rate': 0.1, 'loss': 'warp', 'max_sampled': 15, 'no_components': 40, 'user_alpha': 0, 'precision_at_k': 0.0026130655}\n",
      "Iteration 142 from 288 2022-03-05 14:25:55.148905 (spent 0:00:08.804815)\n",
      "{'item_alpha': 0, 'learning_rate': 0.1, 'loss': 'warp', 'max_sampled': 15, 'no_components': 40, 'user_alpha': 0.5, 'precision_at_k': 0.0019095477}\n",
      "Iteration 143 from 288 2022-03-05 14:26:07.950050 (spent 0:00:12.801145)\n",
      "{'item_alpha': 0, 'learning_rate': 0.1, 'loss': 'warp', 'max_sampled': 15, 'no_components': 64, 'user_alpha': 0, 'precision_at_k': 0.0019095478}\n",
      "Iteration 144 from 288 2022-03-05 14:26:21.195178 (spent 0:00:13.245128)\n",
      "{'item_alpha': 0, 'learning_rate': 0.1, 'loss': 'warp', 'max_sampled': 15, 'no_components': 64, 'user_alpha': 0.5, 'precision_at_k': 0.002914573}\n",
      "Iteration 145 from 288 2022-03-05 14:26:24.235052 (spent 0:00:03.038898)\n",
      "{'item_alpha': 0.5, 'learning_rate': 0.01, 'loss': 'bpr', 'max_sampled': 5, 'no_components': 10, 'user_alpha': 0, 'precision_at_k': 0.0012060303}\n",
      "Iteration 146 from 288 2022-03-05 14:26:27.122691 (spent 0:00:02.887639)\n",
      "{'item_alpha': 0.5, 'learning_rate': 0.01, 'loss': 'bpr', 'max_sampled': 5, 'no_components': 10, 'user_alpha': 0.5, 'precision_at_k': 0.0111557795}\n",
      "Iteration 147 from 288 2022-03-05 14:26:31.907568 (spent 0:00:04.784877)\n",
      "{'item_alpha': 0.5, 'learning_rate': 0.01, 'loss': 'bpr', 'max_sampled': 5, 'no_components': 20, 'user_alpha': 0, 'precision_at_k': 0.0059296484}\n",
      "Iteration 148 from 288 2022-03-05 14:26:36.352729 (spent 0:00:04.445161)\n",
      "{'item_alpha': 0.5, 'learning_rate': 0.01, 'loss': 'bpr', 'max_sampled': 5, 'no_components': 20, 'user_alpha': 0.5, 'precision_at_k': 0.0025125628}\n",
      "Iteration 149 from 288 2022-03-05 14:26:44.336898 (spent 0:00:07.984169)\n",
      "{'item_alpha': 0.5, 'learning_rate': 0.01, 'loss': 'bpr', 'max_sampled': 5, 'no_components': 40, 'user_alpha': 0, 'precision_at_k': 0.0017085428}\n",
      "Iteration 150 from 288 2022-03-05 14:26:51.914761 (spent 0:00:07.577863)\n",
      "{'item_alpha': 0.5, 'learning_rate': 0.01, 'loss': 'bpr', 'max_sampled': 5, 'no_components': 40, 'user_alpha': 0.5, 'precision_at_k': 0.0020100502}\n",
      "Iteration 151 from 288 2022-03-05 14:27:03.975298 (spent 0:00:12.060537)\n",
      "{'item_alpha': 0.5, 'learning_rate': 0.01, 'loss': 'bpr', 'max_sampled': 5, 'no_components': 64, 'user_alpha': 0, 'precision_at_k': 0.0055276384}\n",
      "Iteration 152 from 288 2022-03-05 14:27:15.353719 (spent 0:00:11.378421)\n",
      "{'item_alpha': 0.5, 'learning_rate': 0.01, 'loss': 'bpr', 'max_sampled': 5, 'no_components': 64, 'user_alpha': 0.5, 'precision_at_k': 0.002713568}\n"
     ]
    },
    {
     "name": "stdout",
     "output_type": "stream",
     "text": [
      "Iteration 153 from 288 2022-03-05 14:27:18.404115 (spent 0:00:03.050396)\n",
      "{'item_alpha': 0.5, 'learning_rate': 0.01, 'loss': 'bpr', 'max_sampled': 10, 'no_components': 10, 'user_alpha': 0, 'precision_at_k': 0.0012060303}\n",
      "Iteration 154 from 288 2022-03-05 14:27:21.287960 (spent 0:00:02.883845)\n",
      "{'item_alpha': 0.5, 'learning_rate': 0.01, 'loss': 'bpr', 'max_sampled': 10, 'no_components': 10, 'user_alpha': 0.5, 'precision_at_k': 0.0111557795}\n",
      "Iteration 155 from 288 2022-03-05 14:27:26.069878 (spent 0:00:04.781918)\n",
      "{'item_alpha': 0.5, 'learning_rate': 0.01, 'loss': 'bpr', 'max_sampled': 10, 'no_components': 20, 'user_alpha': 0, 'precision_at_k': 0.0059296484}\n",
      "Iteration 156 from 288 2022-03-05 14:27:30.521734 (spent 0:00:04.451856)\n",
      "{'item_alpha': 0.5, 'learning_rate': 0.01, 'loss': 'bpr', 'max_sampled': 10, 'no_components': 20, 'user_alpha': 0.5, 'precision_at_k': 0.0025125628}\n",
      "Iteration 157 from 288 2022-03-05 14:27:38.487313 (spent 0:00:07.965579)\n",
      "{'item_alpha': 0.5, 'learning_rate': 0.01, 'loss': 'bpr', 'max_sampled': 10, 'no_components': 40, 'user_alpha': 0, 'precision_at_k': 0.0017085428}\n",
      "Iteration 158 from 288 2022-03-05 14:27:46.068474 (spent 0:00:07.581161)\n",
      "{'item_alpha': 0.5, 'learning_rate': 0.01, 'loss': 'bpr', 'max_sampled': 10, 'no_components': 40, 'user_alpha': 0.5, 'precision_at_k': 0.0020100502}\n",
      "Iteration 159 from 288 2022-03-05 14:27:58.125625 (spent 0:00:12.057151)\n",
      "{'item_alpha': 0.5, 'learning_rate': 0.01, 'loss': 'bpr', 'max_sampled': 10, 'no_components': 64, 'user_alpha': 0, 'precision_at_k': 0.0055276384}\n",
      "Iteration 160 from 288 2022-03-05 14:28:09.475662 (spent 0:00:11.350037)\n",
      "{'item_alpha': 0.5, 'learning_rate': 0.01, 'loss': 'bpr', 'max_sampled': 10, 'no_components': 64, 'user_alpha': 0.5, 'precision_at_k': 0.002713568}\n",
      "Iteration 161 from 288 2022-03-05 14:28:12.530797 (spent 0:00:03.055135)\n",
      "{'item_alpha': 0.5, 'learning_rate': 0.01, 'loss': 'bpr', 'max_sampled': 15, 'no_components': 10, 'user_alpha': 0, 'precision_at_k': 0.0012060303}\n",
      "Iteration 162 from 288 2022-03-05 14:28:15.454438 (spent 0:00:02.922664)\n",
      "{'item_alpha': 0.5, 'learning_rate': 0.01, 'loss': 'bpr', 'max_sampled': 15, 'no_components': 10, 'user_alpha': 0.5, 'precision_at_k': 0.0111557795}\n",
      "Iteration 163 from 288 2022-03-05 14:28:20.250168 (spent 0:00:04.795730)\n",
      "{'item_alpha': 0.5, 'learning_rate': 0.01, 'loss': 'bpr', 'max_sampled': 15, 'no_components': 20, 'user_alpha': 0, 'precision_at_k': 0.0059296484}\n",
      "Iteration 164 from 288 2022-03-05 14:28:24.721213 (spent 0:00:04.471045)\n",
      "{'item_alpha': 0.5, 'learning_rate': 0.01, 'loss': 'bpr', 'max_sampled': 15, 'no_components': 20, 'user_alpha': 0.5, 'precision_at_k': 0.0025125628}\n",
      "Iteration 165 from 288 2022-03-05 14:28:32.738647 (spent 0:00:08.017434)\n",
      "{'item_alpha': 0.5, 'learning_rate': 0.01, 'loss': 'bpr', 'max_sampled': 15, 'no_components': 40, 'user_alpha': 0, 'precision_at_k': 0.0017085428}\n",
      "Iteration 166 from 288 2022-03-05 14:28:40.380906 (spent 0:00:07.642259)\n",
      "{'item_alpha': 0.5, 'learning_rate': 0.01, 'loss': 'bpr', 'max_sampled': 15, 'no_components': 40, 'user_alpha': 0.5, 'precision_at_k': 0.0020100502}\n",
      "Iteration 167 from 288 2022-03-05 14:28:52.533441 (spent 0:00:12.152535)\n",
      "{'item_alpha': 0.5, 'learning_rate': 0.01, 'loss': 'bpr', 'max_sampled': 15, 'no_components': 64, 'user_alpha': 0, 'precision_at_k': 0.0055276384}\n",
      "Iteration 168 from 288 2022-03-05 14:29:03.989899 (spent 0:00:11.456458)\n",
      "{'item_alpha': 0.5, 'learning_rate': 0.01, 'loss': 'bpr', 'max_sampled': 15, 'no_components': 64, 'user_alpha': 0.5, 'precision_at_k': 0.002713568}\n",
      "Iteration 169 from 288 2022-03-05 14:29:06.951325 (spent 0:00:02.961426)\n",
      "{'item_alpha': 0.5, 'learning_rate': 0.01, 'loss': 'warp', 'max_sampled': 5, 'no_components': 10, 'user_alpha': 0, 'precision_at_k': 0.0010050251}\n",
      "Iteration 170 from 288 2022-03-05 14:29:09.880825 (spent 0:00:02.929500)\n",
      "{'item_alpha': 0.5, 'learning_rate': 0.01, 'loss': 'warp', 'max_sampled': 5, 'no_components': 10, 'user_alpha': 0.5, 'precision_at_k': 0.0028140703}\n",
      "Iteration 171 from 288 2022-03-05 14:29:14.442632 (spent 0:00:04.561807)\n",
      "{'item_alpha': 0.5, 'learning_rate': 0.01, 'loss': 'warp', 'max_sampled': 5, 'no_components': 20, 'user_alpha': 0, 'precision_at_k': 0.0028140703}\n",
      "Iteration 172 from 288 2022-03-05 14:29:18.881420 (spent 0:00:04.438788)\n",
      "{'item_alpha': 0.5, 'learning_rate': 0.01, 'loss': 'warp', 'max_sampled': 5, 'no_components': 20, 'user_alpha': 0.5, 'precision_at_k': 0.0017085428}\n",
      "Iteration 173 from 288 2022-03-05 14:29:26.455165 (spent 0:00:07.573745)\n",
      "{'item_alpha': 0.5, 'learning_rate': 0.01, 'loss': 'warp', 'max_sampled': 5, 'no_components': 40, 'user_alpha': 0, 'precision_at_k': 0.00050251256}\n",
      "Iteration 174 from 288 2022-03-05 14:29:33.861260 (spent 0:00:07.406095)\n",
      "{'item_alpha': 0.5, 'learning_rate': 0.01, 'loss': 'warp', 'max_sampled': 5, 'no_components': 40, 'user_alpha': 0.5, 'precision_at_k': 0.0015075377}\n",
      "Iteration 175 from 288 2022-03-05 14:29:45.307011 (spent 0:00:11.445751)\n",
      "{'item_alpha': 0.5, 'learning_rate': 0.01, 'loss': 'warp', 'max_sampled': 5, 'no_components': 64, 'user_alpha': 0, 'precision_at_k': 0.0016080402}\n",
      "Iteration 176 from 288 2022-03-05 14:29:56.328009 (spent 0:00:11.020998)\n",
      "{'item_alpha': 0.5, 'learning_rate': 0.01, 'loss': 'warp', 'max_sampled': 5, 'no_components': 64, 'user_alpha': 0.5, 'precision_at_k': 0.0028140706}\n",
      "Iteration 177 from 288 2022-03-05 14:29:59.427421 (spent 0:00:03.099412)\n",
      "{'item_alpha': 0.5, 'learning_rate': 0.01, 'loss': 'warp', 'max_sampled': 10, 'no_components': 10, 'user_alpha': 0, 'precision_at_k': 0.0009045226}\n",
      "Iteration 178 from 288 2022-03-05 14:30:02.543434 (spent 0:00:03.116013)\n",
      "{'item_alpha': 0.5, 'learning_rate': 0.01, 'loss': 'warp', 'max_sampled': 10, 'no_components': 10, 'user_alpha': 0.5, 'precision_at_k': 0.0028140703}\n",
      "Iteration 179 from 288 2022-03-05 14:30:07.319633 (spent 0:00:04.776199)\n",
      "{'item_alpha': 0.5, 'learning_rate': 0.01, 'loss': 'warp', 'max_sampled': 10, 'no_components': 20, 'user_alpha': 0, 'precision_at_k': 0.0019095477}\n",
      "Iteration 180 from 288 2022-03-05 14:30:12.091819 (spent 0:00:04.772186)\n",
      "{'item_alpha': 0.5, 'learning_rate': 0.01, 'loss': 'warp', 'max_sampled': 10, 'no_components': 20, 'user_alpha': 0.5, 'precision_at_k': 0.0030150753}\n",
      "Iteration 181 from 288 2022-03-05 14:30:20.326249 (spent 0:00:08.234430)\n",
      "{'item_alpha': 0.5, 'learning_rate': 0.01, 'loss': 'warp', 'max_sampled': 10, 'no_components': 40, 'user_alpha': 0, 'precision_at_k': 0.0011055276}\n",
      "Iteration 182 from 288 2022-03-05 14:30:28.491921 (spent 0:00:08.165672)\n",
      "{'item_alpha': 0.5, 'learning_rate': 0.01, 'loss': 'warp', 'max_sampled': 10, 'no_components': 40, 'user_alpha': 0.5, 'precision_at_k': 0.0014070353}\n",
      "Iteration 183 from 288 2022-03-05 14:30:40.765939 (spent 0:00:12.274018)\n",
      "{'item_alpha': 0.5, 'learning_rate': 0.01, 'loss': 'warp', 'max_sampled': 10, 'no_components': 64, 'user_alpha': 0, 'precision_at_k': 0.0017085428}\n",
      "Iteration 184 from 288 2022-03-05 14:30:52.849104 (spent 0:00:12.083165)\n",
      "{'item_alpha': 0.5, 'learning_rate': 0.01, 'loss': 'warp', 'max_sampled': 10, 'no_components': 64, 'user_alpha': 0.5, 'precision_at_k': 0.0019095478}\n",
      "Iteration 185 from 288 2022-03-05 14:30:56.054997 (spent 0:00:03.205893)\n",
      "{'item_alpha': 0.5, 'learning_rate': 0.01, 'loss': 'warp', 'max_sampled': 15, 'no_components': 10, 'user_alpha': 0, 'precision_at_k': 0.0016080402}\n",
      "Iteration 186 from 288 2022-03-05 14:30:59.272561 (spent 0:00:03.217564)\n",
      "{'item_alpha': 0.5, 'learning_rate': 0.01, 'loss': 'warp', 'max_sampled': 15, 'no_components': 10, 'user_alpha': 0.5, 'precision_at_k': 0.0006030151}\n",
      "Iteration 187 from 288 2022-03-05 14:31:04.230392 (spent 0:00:04.957831)\n",
      "{'item_alpha': 0.5, 'learning_rate': 0.01, 'loss': 'warp', 'max_sampled': 15, 'no_components': 20, 'user_alpha': 0, 'precision_at_k': 0.0028140703}\n",
      "Iteration 188 from 288 2022-03-05 14:31:09.175928 (spent 0:00:04.945536)\n",
      "{'item_alpha': 0.5, 'learning_rate': 0.01, 'loss': 'warp', 'max_sampled': 15, 'no_components': 20, 'user_alpha': 0.5, 'precision_at_k': 0.0021105527}\n",
      "Iteration 189 from 288 2022-03-05 14:31:17.685882 (spent 0:00:08.509954)\n",
      "{'item_alpha': 0.5, 'learning_rate': 0.01, 'loss': 'warp', 'max_sampled': 15, 'no_components': 40, 'user_alpha': 0, 'precision_at_k': 0.0028140703}\n",
      "Iteration 190 from 288 2022-03-05 14:31:26.141447 (spent 0:00:08.455565)\n",
      "{'item_alpha': 0.5, 'learning_rate': 0.01, 'loss': 'warp', 'max_sampled': 15, 'no_components': 40, 'user_alpha': 0.5, 'precision_at_k': 0.0027135678}\n"
     ]
    },
    {
     "name": "stdout",
     "output_type": "stream",
     "text": [
      "Iteration 191 from 288 2022-03-05 14:31:38.881352 (spent 0:00:12.739905)\n",
      "{'item_alpha': 0.5, 'learning_rate': 0.01, 'loss': 'warp', 'max_sampled': 15, 'no_components': 64, 'user_alpha': 0, 'precision_at_k': 0.0016080402}\n",
      "Iteration 192 from 288 2022-03-05 14:31:51.479539 (spent 0:00:12.598187)\n",
      "{'item_alpha': 0.5, 'learning_rate': 0.01, 'loss': 'warp', 'max_sampled': 15, 'no_components': 64, 'user_alpha': 0.5, 'precision_at_k': 0.0024120605}\n",
      "Iteration 193 from 288 2022-03-05 14:31:54.471566 (spent 0:00:02.992027)\n",
      "{'item_alpha': 0.5, 'learning_rate': 0.05, 'loss': 'bpr', 'max_sampled': 5, 'no_components': 10, 'user_alpha': 0, 'precision_at_k': 0.0010050251}\n",
      "Iteration 194 from 288 2022-03-05 14:31:57.602267 (spent 0:00:03.130701)\n",
      "{'item_alpha': 0.5, 'learning_rate': 0.05, 'loss': 'bpr', 'max_sampled': 5, 'no_components': 10, 'user_alpha': 0.5, 'precision_at_k': 0.0026130653}\n",
      "Iteration 195 from 288 2022-03-05 14:32:02.093230 (spent 0:00:04.490963)\n",
      "{'item_alpha': 0.5, 'learning_rate': 0.05, 'loss': 'bpr', 'max_sampled': 5, 'no_components': 20, 'user_alpha': 0, 'precision_at_k': 0.0014070352}\n",
      "Iteration 196 from 288 2022-03-05 14:32:35.753546 (spent 0:00:33.660316)\n",
      "{'item_alpha': 0.5, 'learning_rate': 0.05, 'loss': 'bpr', 'max_sampled': 5, 'no_components': 20, 'user_alpha': 0.5, 'precision_at_k': 0.0024120605}\n",
      "Iteration 197 from 288 2022-03-05 14:32:43.395363 (spent 0:00:07.641817)\n",
      "{'item_alpha': 0.5, 'learning_rate': 0.05, 'loss': 'bpr', 'max_sampled': 5, 'no_components': 40, 'user_alpha': 0, 'precision_at_k': 0.0052261306}\n",
      "Iteration 198 from 288 2022-03-05 14:33:15.627497 (spent 0:00:32.232134)\n",
      "{'item_alpha': 0.5, 'learning_rate': 0.05, 'loss': 'bpr', 'max_sampled': 5, 'no_components': 40, 'user_alpha': 0.5, 'precision_at_k': 0.0053266333}\n",
      "Iteration 199 from 288 2022-03-05 14:33:27.000607 (spent 0:00:11.373110)\n",
      "{'item_alpha': 0.5, 'learning_rate': 0.05, 'loss': 'bpr', 'max_sampled': 5, 'no_components': 64, 'user_alpha': 0, 'precision_at_k': 0.002914573}\n",
      "Iteration 200 from 288 2022-03-05 14:33:39.352563 (spent 0:00:12.351956)\n",
      "{'item_alpha': 0.5, 'learning_rate': 0.05, 'loss': 'bpr', 'max_sampled': 5, 'no_components': 64, 'user_alpha': 0.5, 'precision_at_k': 0.0027135678}\n",
      "Iteration 201 from 288 2022-03-05 14:33:42.347152 (spent 0:00:02.994589)\n",
      "{'item_alpha': 0.5, 'learning_rate': 0.05, 'loss': 'bpr', 'max_sampled': 10, 'no_components': 10, 'user_alpha': 0, 'precision_at_k': 0.0010050251}\n",
      "Iteration 202 from 288 2022-03-05 14:33:45.494411 (spent 0:00:03.147259)\n",
      "{'item_alpha': 0.5, 'learning_rate': 0.05, 'loss': 'bpr', 'max_sampled': 10, 'no_components': 10, 'user_alpha': 0.5, 'precision_at_k': 0.0026130653}\n",
      "Iteration 203 from 288 2022-03-05 14:33:50.030862 (spent 0:00:04.536451)\n",
      "{'item_alpha': 0.5, 'learning_rate': 0.05, 'loss': 'bpr', 'max_sampled': 10, 'no_components': 20, 'user_alpha': 0, 'precision_at_k': 0.0014070352}\n",
      "Iteration 204 from 288 2022-03-05 14:34:23.704405 (spent 0:00:33.672556)\n",
      "{'item_alpha': 0.5, 'learning_rate': 0.05, 'loss': 'bpr', 'max_sampled': 10, 'no_components': 20, 'user_alpha': 0.5, 'precision_at_k': 0.0024120605}\n",
      "Iteration 205 from 288 2022-03-05 14:34:31.388037 (spent 0:00:07.683632)\n",
      "{'item_alpha': 0.5, 'learning_rate': 0.05, 'loss': 'bpr', 'max_sampled': 10, 'no_components': 40, 'user_alpha': 0, 'precision_at_k': 0.0052261306}\n",
      "Iteration 206 from 288 2022-03-05 14:35:03.544075 (spent 0:00:32.156038)\n",
      "{'item_alpha': 0.5, 'learning_rate': 0.05, 'loss': 'bpr', 'max_sampled': 10, 'no_components': 40, 'user_alpha': 0.5, 'precision_at_k': 0.0053266333}\n",
      "Iteration 207 from 288 2022-03-05 14:35:14.976937 (spent 0:00:11.432862)\n",
      "{'item_alpha': 0.5, 'learning_rate': 0.05, 'loss': 'bpr', 'max_sampled': 10, 'no_components': 64, 'user_alpha': 0, 'precision_at_k': 0.002914573}\n",
      "Iteration 208 from 288 2022-03-05 14:35:27.371504 (spent 0:00:12.394567)\n",
      "{'item_alpha': 0.5, 'learning_rate': 0.05, 'loss': 'bpr', 'max_sampled': 10, 'no_components': 64, 'user_alpha': 0.5, 'precision_at_k': 0.0027135678}\n",
      "Iteration 209 from 288 2022-03-05 14:35:30.372286 (spent 0:00:03.000782)\n",
      "{'item_alpha': 0.5, 'learning_rate': 0.05, 'loss': 'bpr', 'max_sampled': 15, 'no_components': 10, 'user_alpha': 0, 'precision_at_k': 0.0010050251}\n",
      "Iteration 210 from 288 2022-03-05 14:35:33.499530 (spent 0:00:03.127244)\n",
      "{'item_alpha': 0.5, 'learning_rate': 0.05, 'loss': 'bpr', 'max_sampled': 15, 'no_components': 10, 'user_alpha': 0.5, 'precision_at_k': 0.0026130653}\n",
      "Iteration 211 from 288 2022-03-05 14:35:38.014662 (spent 0:00:04.515132)\n",
      "{'item_alpha': 0.5, 'learning_rate': 0.05, 'loss': 'bpr', 'max_sampled': 15, 'no_components': 20, 'user_alpha': 0, 'precision_at_k': 0.0014070352}\n",
      "Iteration 212 from 288 2022-03-05 14:36:11.689697 (spent 0:00:33.675035)\n",
      "{'item_alpha': 0.5, 'learning_rate': 0.05, 'loss': 'bpr', 'max_sampled': 15, 'no_components': 20, 'user_alpha': 0.5, 'precision_at_k': 0.0024120605}\n",
      "Iteration 213 from 288 2022-03-05 14:36:19.334781 (spent 0:00:07.645084)\n",
      "{'item_alpha': 0.5, 'learning_rate': 0.05, 'loss': 'bpr', 'max_sampled': 15, 'no_components': 40, 'user_alpha': 0, 'precision_at_k': 0.0052261306}\n",
      "Iteration 214 from 288 2022-03-05 14:36:51.570258 (spent 0:00:32.235477)\n",
      "{'item_alpha': 0.5, 'learning_rate': 0.05, 'loss': 'bpr', 'max_sampled': 15, 'no_components': 40, 'user_alpha': 0.5, 'precision_at_k': 0.0053266333}\n",
      "Iteration 215 from 288 2022-03-05 14:37:02.940820 (spent 0:00:11.370562)\n",
      "{'item_alpha': 0.5, 'learning_rate': 0.05, 'loss': 'bpr', 'max_sampled': 15, 'no_components': 64, 'user_alpha': 0, 'precision_at_k': 0.002914573}\n",
      "Iteration 216 from 288 2022-03-05 14:37:15.294764 (spent 0:00:12.353944)\n",
      "{'item_alpha': 0.5, 'learning_rate': 0.05, 'loss': 'bpr', 'max_sampled': 15, 'no_components': 64, 'user_alpha': 0.5, 'precision_at_k': 0.0027135678}\n",
      "Iteration 217 from 288 2022-03-05 14:37:18.215545 (spent 0:00:02.920781)\n",
      "{'item_alpha': 0.5, 'learning_rate': 0.05, 'loss': 'warp', 'max_sampled': 5, 'no_components': 10, 'user_alpha': 0, 'precision_at_k': 0.0011055276}\n",
      "Iteration 218 from 288 2022-03-05 14:37:21.235995 (spent 0:00:03.020450)\n",
      "{'item_alpha': 0.5, 'learning_rate': 0.05, 'loss': 'warp', 'max_sampled': 5, 'no_components': 10, 'user_alpha': 0.5, 'precision_at_k': 0.0016080403}\n",
      "Iteration 219 from 288 2022-03-05 14:37:25.771844 (spent 0:00:04.535849)\n",
      "{'item_alpha': 0.5, 'learning_rate': 0.05, 'loss': 'warp', 'max_sampled': 5, 'no_components': 20, 'user_alpha': 0, 'precision_at_k': 0.0026130653}\n",
      "Iteration 220 from 288 2022-03-05 14:37:30.387789 (spent 0:00:04.615945)\n",
      "{'item_alpha': 0.5, 'learning_rate': 0.05, 'loss': 'warp', 'max_sampled': 5, 'no_components': 20, 'user_alpha': 0.5, 'precision_at_k': 0.0022110553}\n",
      "Iteration 221 from 288 2022-03-05 14:37:37.814008 (spent 0:00:07.426219)\n",
      "{'item_alpha': 0.5, 'learning_rate': 0.05, 'loss': 'warp', 'max_sampled': 5, 'no_components': 40, 'user_alpha': 0, 'precision_at_k': 0.0024120605}\n",
      "Iteration 222 from 288 2022-03-05 14:37:45.641274 (spent 0:00:07.827266)\n",
      "{'item_alpha': 0.5, 'learning_rate': 0.05, 'loss': 'warp', 'max_sampled': 5, 'no_components': 40, 'user_alpha': 0.5, 'precision_at_k': 0.0026130655}\n",
      "Iteration 223 from 288 2022-03-05 14:37:56.779090 (spent 0:00:11.137816)\n",
      "{'item_alpha': 0.5, 'learning_rate': 0.05, 'loss': 'warp', 'max_sampled': 5, 'no_components': 64, 'user_alpha': 0, 'precision_at_k': 0.0025125628}\n",
      "Iteration 224 from 288 2022-03-05 14:38:08.568683 (spent 0:00:11.789593)\n",
      "{'item_alpha': 0.5, 'learning_rate': 0.05, 'loss': 'warp', 'max_sampled': 5, 'no_components': 64, 'user_alpha': 0.5, 'precision_at_k': 0.0015075377}\n",
      "Iteration 225 from 288 2022-03-05 14:38:11.704267 (spent 0:00:03.135584)\n",
      "{'item_alpha': 0.5, 'learning_rate': 0.05, 'loss': 'warp', 'max_sampled': 10, 'no_components': 10, 'user_alpha': 0, 'precision_at_k': 0.0025125628}\n",
      "Iteration 226 from 288 2022-03-05 14:38:14.921837 (spent 0:00:03.217570)\n",
      "{'item_alpha': 0.5, 'learning_rate': 0.05, 'loss': 'warp', 'max_sampled': 10, 'no_components': 10, 'user_alpha': 0.5, 'precision_at_k': 0.0015075377}\n",
      "Iteration 227 from 288 2022-03-05 14:38:19.776264 (spent 0:00:04.854427)\n",
      "{'item_alpha': 0.5, 'learning_rate': 0.05, 'loss': 'warp', 'max_sampled': 10, 'no_components': 20, 'user_alpha': 0, 'precision_at_k': 0.00090452266}\n",
      "Iteration 228 from 288 2022-03-05 14:38:24.771093 (spent 0:00:04.993853)\n",
      "{'item_alpha': 0.5, 'learning_rate': 0.05, 'loss': 'warp', 'max_sampled': 10, 'no_components': 20, 'user_alpha': 0.5, 'precision_at_k': 0.0021105527}\n"
     ]
    },
    {
     "name": "stdout",
     "output_type": "stream",
     "text": [
      "Iteration 229 from 288 2022-03-05 14:38:32.930985 (spent 0:00:08.159892)\n",
      "{'item_alpha': 0.5, 'learning_rate': 0.05, 'loss': 'warp', 'max_sampled': 10, 'no_components': 40, 'user_alpha': 0, 'precision_at_k': 0.0020100502}\n",
      "Iteration 230 from 288 2022-03-05 14:38:41.451742 (spent 0:00:08.520757)\n",
      "{'item_alpha': 0.5, 'learning_rate': 0.05, 'loss': 'warp', 'max_sampled': 10, 'no_components': 40, 'user_alpha': 0.5, 'precision_at_k': 0.0018090452}\n",
      "Iteration 231 from 288 2022-03-05 14:38:53.696882 (spent 0:00:12.245140)\n",
      "{'item_alpha': 0.5, 'learning_rate': 0.05, 'loss': 'warp', 'max_sampled': 10, 'no_components': 64, 'user_alpha': 0, 'precision_at_k': 0.002211055}\n",
      "Iteration 232 from 288 2022-03-05 14:39:06.464359 (spent 0:00:12.767477)\n",
      "{'item_alpha': 0.5, 'learning_rate': 0.05, 'loss': 'warp', 'max_sampled': 10, 'no_components': 64, 'user_alpha': 0.5, 'precision_at_k': 0.0024120605}\n",
      "Iteration 233 from 288 2022-03-05 14:39:09.682903 (spent 0:00:03.218544)\n",
      "{'item_alpha': 0.5, 'learning_rate': 0.05, 'loss': 'warp', 'max_sampled': 15, 'no_components': 10, 'user_alpha': 0, 'precision_at_k': 0.0015075377}\n",
      "Iteration 234 from 288 2022-03-05 14:39:12.985428 (spent 0:00:03.302525)\n",
      "{'item_alpha': 0.5, 'learning_rate': 0.05, 'loss': 'warp', 'max_sampled': 15, 'no_components': 10, 'user_alpha': 0.5, 'precision_at_k': 0.0019095478}\n",
      "Iteration 235 from 288 2022-03-05 14:39:17.966925 (spent 0:00:04.981497)\n",
      "{'item_alpha': 0.5, 'learning_rate': 0.05, 'loss': 'warp', 'max_sampled': 15, 'no_components': 20, 'user_alpha': 0, 'precision_at_k': 0.0028140706}\n",
      "Iteration 236 from 288 2022-03-05 14:39:23.106717 (spent 0:00:05.139792)\n",
      "{'item_alpha': 0.5, 'learning_rate': 0.05, 'loss': 'warp', 'max_sampled': 15, 'no_components': 20, 'user_alpha': 0.5, 'precision_at_k': 0.0020100502}\n",
      "Iteration 237 from 288 2022-03-05 14:39:31.634564 (spent 0:00:08.527847)\n",
      "{'item_alpha': 0.5, 'learning_rate': 0.05, 'loss': 'warp', 'max_sampled': 15, 'no_components': 40, 'user_alpha': 0, 'precision_at_k': 0.002914573}\n",
      "Iteration 238 from 288 2022-03-05 14:39:40.412279 (spent 0:00:08.777715)\n",
      "{'item_alpha': 0.5, 'learning_rate': 0.05, 'loss': 'warp', 'max_sampled': 15, 'no_components': 40, 'user_alpha': 0.5, 'precision_at_k': 0.0030150753}\n",
      "Iteration 239 from 288 2022-03-05 14:39:53.191901 (spent 0:00:12.779622)\n",
      "{'item_alpha': 0.5, 'learning_rate': 0.05, 'loss': 'warp', 'max_sampled': 15, 'no_components': 64, 'user_alpha': 0, 'precision_at_k': 0.0016080402}\n",
      "Iteration 240 from 288 2022-03-05 14:40:06.389688 (spent 0:00:13.197787)\n",
      "{'item_alpha': 0.5, 'learning_rate': 0.05, 'loss': 'warp', 'max_sampled': 15, 'no_components': 64, 'user_alpha': 0.5, 'precision_at_k': 0.0016080401}\n",
      "Iteration 241 from 288 2022-03-05 14:40:09.320164 (spent 0:00:02.930476)\n",
      "{'item_alpha': 0.5, 'learning_rate': 0.1, 'loss': 'bpr', 'max_sampled': 5, 'no_components': 10, 'user_alpha': 0, 'precision_at_k': 0.003316583}\n",
      "Iteration 242 from 288 2022-03-05 14:40:12.038010 (spent 0:00:02.717846)\n",
      "{'item_alpha': 0.5, 'learning_rate': 0.1, 'loss': 'bpr', 'max_sampled': 5, 'no_components': 10, 'user_alpha': 0.5, 'precision_at_k': 0.002110553}\n",
      "Iteration 243 from 288 2022-03-05 14:40:16.500905 (spent 0:00:04.462895)\n",
      "{'item_alpha': 0.5, 'learning_rate': 0.1, 'loss': 'bpr', 'max_sampled': 5, 'no_components': 20, 'user_alpha': 0, 'precision_at_k': 0.0027135678}\n",
      "Iteration 244 from 288 2022-03-05 14:40:20.708742 (spent 0:00:04.207837)\n",
      "{'item_alpha': 0.5, 'learning_rate': 0.1, 'loss': 'bpr', 'max_sampled': 5, 'no_components': 20, 'user_alpha': 0.5, 'precision_at_k': 0.015778894}\n",
      "Iteration 245 from 288 2022-03-05 14:40:28.335997 (spent 0:00:07.627255)\n",
      "{'item_alpha': 0.5, 'learning_rate': 0.1, 'loss': 'bpr', 'max_sampled': 5, 'no_components': 40, 'user_alpha': 0, 'precision_at_k': 0.003919598}\n",
      "Iteration 246 from 288 2022-03-05 14:40:35.223021 (spent 0:00:06.887024)\n",
      "{'item_alpha': 0.5, 'learning_rate': 0.1, 'loss': 'bpr', 'max_sampled': 5, 'no_components': 40, 'user_alpha': 0.5, 'precision_at_k': 0.005226131}\n",
      "Iteration 247 from 288 2022-03-05 14:40:46.645362 (spent 0:00:11.422341)\n",
      "{'item_alpha': 0.5, 'learning_rate': 0.1, 'loss': 'bpr', 'max_sampled': 5, 'no_components': 64, 'user_alpha': 0, 'precision_at_k': 0.0038190957}\n",
      "Iteration 248 from 288 2022-03-05 14:40:56.631268 (spent 0:00:09.985906)\n",
      "{'item_alpha': 0.5, 'learning_rate': 0.1, 'loss': 'bpr', 'max_sampled': 5, 'no_components': 64, 'user_alpha': 0.5, 'precision_at_k': 0.0016080403}\n",
      "Iteration 249 from 288 2022-03-05 14:40:59.571510 (spent 0:00:02.940242)\n",
      "{'item_alpha': 0.5, 'learning_rate': 0.1, 'loss': 'bpr', 'max_sampled': 10, 'no_components': 10, 'user_alpha': 0, 'precision_at_k': 0.003316583}\n",
      "Iteration 250 from 288 2022-03-05 14:41:02.295944 (spent 0:00:02.724434)\n",
      "{'item_alpha': 0.5, 'learning_rate': 0.1, 'loss': 'bpr', 'max_sampled': 10, 'no_components': 10, 'user_alpha': 0.5, 'precision_at_k': 0.002110553}\n",
      "Iteration 251 from 288 2022-03-05 14:41:06.756676 (spent 0:00:04.460732)\n",
      "{'item_alpha': 0.5, 'learning_rate': 0.1, 'loss': 'bpr', 'max_sampled': 10, 'no_components': 20, 'user_alpha': 0, 'precision_at_k': 0.0027135678}\n",
      "Iteration 252 from 288 2022-03-05 14:41:10.950713 (spent 0:00:04.194037)\n",
      "{'item_alpha': 0.5, 'learning_rate': 0.1, 'loss': 'bpr', 'max_sampled': 10, 'no_components': 20, 'user_alpha': 0.5, 'precision_at_k': 0.015778894}\n",
      "Iteration 253 from 288 2022-03-05 14:41:18.572360 (spent 0:00:07.621647)\n",
      "{'item_alpha': 0.5, 'learning_rate': 0.1, 'loss': 'bpr', 'max_sampled': 10, 'no_components': 40, 'user_alpha': 0, 'precision_at_k': 0.003919598}\n",
      "Iteration 254 from 288 2022-03-05 14:41:25.453900 (spent 0:00:06.881540)\n",
      "{'item_alpha': 0.5, 'learning_rate': 0.1, 'loss': 'bpr', 'max_sampled': 10, 'no_components': 40, 'user_alpha': 0.5, 'precision_at_k': 0.005226131}\n",
      "Iteration 255 from 288 2022-03-05 14:41:36.879241 (spent 0:00:11.425341)\n",
      "{'item_alpha': 0.5, 'learning_rate': 0.1, 'loss': 'bpr', 'max_sampled': 10, 'no_components': 64, 'user_alpha': 0, 'precision_at_k': 0.0038190957}\n",
      "Iteration 256 from 288 2022-03-05 14:41:46.841681 (spent 0:00:09.962440)\n",
      "{'item_alpha': 0.5, 'learning_rate': 0.1, 'loss': 'bpr', 'max_sampled': 10, 'no_components': 64, 'user_alpha': 0.5, 'precision_at_k': 0.0016080403}\n",
      "Iteration 257 from 288 2022-03-05 14:41:49.788757 (spent 0:00:02.946097)\n",
      "{'item_alpha': 0.5, 'learning_rate': 0.1, 'loss': 'bpr', 'max_sampled': 15, 'no_components': 10, 'user_alpha': 0, 'precision_at_k': 0.003316583}\n",
      "Iteration 258 from 288 2022-03-05 14:41:52.516306 (spent 0:00:02.727549)\n",
      "{'item_alpha': 0.5, 'learning_rate': 0.1, 'loss': 'bpr', 'max_sampled': 15, 'no_components': 10, 'user_alpha': 0.5, 'precision_at_k': 0.002110553}\n",
      "Iteration 259 from 288 2022-03-05 14:41:56.988301 (spent 0:00:04.471995)\n",
      "{'item_alpha': 0.5, 'learning_rate': 0.1, 'loss': 'bpr', 'max_sampled': 15, 'no_components': 20, 'user_alpha': 0, 'precision_at_k': 0.0027135678}\n",
      "Iteration 260 from 288 2022-03-05 14:42:01.145410 (spent 0:00:04.157109)\n",
      "{'item_alpha': 0.5, 'learning_rate': 0.1, 'loss': 'bpr', 'max_sampled': 15, 'no_components': 20, 'user_alpha': 0.5, 'precision_at_k': 0.015778894}\n",
      "Iteration 261 from 288 2022-03-05 14:42:08.779804 (spent 0:00:07.633417)\n",
      "{'item_alpha': 0.5, 'learning_rate': 0.1, 'loss': 'bpr', 'max_sampled': 15, 'no_components': 40, 'user_alpha': 0, 'precision_at_k': 0.003919598}\n",
      "Iteration 262 from 288 2022-03-05 14:42:15.648505 (spent 0:00:06.868701)\n",
      "{'item_alpha': 0.5, 'learning_rate': 0.1, 'loss': 'bpr', 'max_sampled': 15, 'no_components': 40, 'user_alpha': 0.5, 'precision_at_k': 0.005226131}\n",
      "Iteration 263 from 288 2022-03-05 14:42:27.041340 (spent 0:00:11.392835)\n",
      "{'item_alpha': 0.5, 'learning_rate': 0.1, 'loss': 'bpr', 'max_sampled': 15, 'no_components': 64, 'user_alpha': 0, 'precision_at_k': 0.0038190957}\n",
      "Iteration 264 from 288 2022-03-05 14:42:37.011721 (spent 0:00:09.970381)\n",
      "{'item_alpha': 0.5, 'learning_rate': 0.1, 'loss': 'bpr', 'max_sampled': 15, 'no_components': 64, 'user_alpha': 0.5, 'precision_at_k': 0.0016080403}\n",
      "Iteration 265 from 288 2022-03-05 14:42:39.966611 (spent 0:00:02.954890)\n",
      "{'item_alpha': 0.5, 'learning_rate': 0.1, 'loss': 'warp', 'max_sampled': 5, 'no_components': 10, 'user_alpha': 0, 'precision_at_k': 0.0028140703}\n",
      "Iteration 266 from 288 2022-03-05 14:42:43.036760 (spent 0:00:03.070149)\n",
      "{'item_alpha': 0.5, 'learning_rate': 0.1, 'loss': 'warp', 'max_sampled': 5, 'no_components': 10, 'user_alpha': 0.5, 'precision_at_k': 0.0028140703}\n"
     ]
    },
    {
     "name": "stdout",
     "output_type": "stream",
     "text": [
      "Iteration 267 from 288 2022-03-05 14:42:47.685378 (spent 0:00:04.648618)\n",
      "{'item_alpha': 0.5, 'learning_rate': 0.1, 'loss': 'warp', 'max_sampled': 5, 'no_components': 20, 'user_alpha': 0, 'precision_at_k': 0.010552764}\n",
      "Iteration 268 from 288 2022-03-05 14:42:52.325705 (spent 0:00:04.640327)\n",
      "{'item_alpha': 0.5, 'learning_rate': 0.1, 'loss': 'warp', 'max_sampled': 5, 'no_components': 20, 'user_alpha': 0.5, 'precision_at_k': 0.013567839}\n",
      "Iteration 269 from 288 2022-03-05 14:43:00.187578 (spent 0:00:07.861873)\n",
      "{'item_alpha': 0.5, 'learning_rate': 0.1, 'loss': 'warp', 'max_sampled': 5, 'no_components': 40, 'user_alpha': 0, 'precision_at_k': 0.010552764}\n",
      "Iteration 270 from 288 2022-03-05 14:43:08.096061 (spent 0:00:07.908483)\n",
      "{'item_alpha': 0.5, 'learning_rate': 0.1, 'loss': 'warp', 'max_sampled': 5, 'no_components': 40, 'user_alpha': 0.5, 'precision_at_k': 0.012060301}\n",
      "Iteration 271 from 288 2022-03-05 14:43:19.878310 (spent 0:00:11.782249)\n",
      "{'item_alpha': 0.5, 'learning_rate': 0.1, 'loss': 'warp', 'max_sampled': 5, 'no_components': 64, 'user_alpha': 0, 'precision_at_k': 0.0111557795}\n",
      "Iteration 272 from 288 2022-03-05 14:43:31.644880 (spent 0:00:11.766570)\n",
      "{'item_alpha': 0.5, 'learning_rate': 0.1, 'loss': 'warp', 'max_sampled': 5, 'no_components': 64, 'user_alpha': 0.5, 'precision_at_k': 0.013266332}\n",
      "Iteration 273 from 288 2022-03-05 14:43:34.817617 (spent 0:00:03.172737)\n",
      "{'item_alpha': 0.5, 'learning_rate': 0.1, 'loss': 'warp', 'max_sampled': 10, 'no_components': 10, 'user_alpha': 0, 'precision_at_k': 0.002914573}\n",
      "Iteration 274 from 288 2022-03-05 14:43:38.044555 (spent 0:00:03.226938)\n",
      "{'item_alpha': 0.5, 'learning_rate': 0.1, 'loss': 'warp', 'max_sampled': 10, 'no_components': 10, 'user_alpha': 0.5, 'precision_at_k': 0.0015075377}\n",
      "Iteration 275 from 288 2022-03-05 14:43:42.970048 (spent 0:00:04.925493)\n",
      "{'item_alpha': 0.5, 'learning_rate': 0.1, 'loss': 'warp', 'max_sampled': 10, 'no_components': 20, 'user_alpha': 0, 'precision_at_k': 0.010653267}\n",
      "Iteration 276 from 288 2022-03-05 14:43:47.971822 (spent 0:00:05.000823)\n",
      "{'item_alpha': 0.5, 'learning_rate': 0.1, 'loss': 'warp', 'max_sampled': 10, 'no_components': 20, 'user_alpha': 0.5, 'precision_at_k': 0.0019095478}\n",
      "Iteration 277 from 288 2022-03-05 14:43:56.498761 (spent 0:00:08.526939)\n",
      "{'item_alpha': 0.5, 'learning_rate': 0.1, 'loss': 'warp', 'max_sampled': 10, 'no_components': 40, 'user_alpha': 0, 'precision_at_k': 0.010653267}\n",
      "Iteration 278 from 288 2022-03-05 14:44:05.121292 (spent 0:00:08.622531)\n",
      "{'item_alpha': 0.5, 'learning_rate': 0.1, 'loss': 'warp', 'max_sampled': 10, 'no_components': 40, 'user_alpha': 0.5, 'precision_at_k': 0.011457286}\n",
      "Iteration 279 from 288 2022-03-05 14:44:17.818941 (spent 0:00:12.697649)\n",
      "{'item_alpha': 0.5, 'learning_rate': 0.1, 'loss': 'warp', 'max_sampled': 10, 'no_components': 64, 'user_alpha': 0, 'precision_at_k': 0.0039195977}\n",
      "Iteration 280 from 288 2022-03-05 14:44:30.551734 (spent 0:00:12.731813)\n",
      "{'item_alpha': 0.5, 'learning_rate': 0.1, 'loss': 'warp', 'max_sampled': 10, 'no_components': 64, 'user_alpha': 0.5, 'precision_at_k': 0.0136683425}\n",
      "Iteration 281 from 288 2022-03-05 14:44:33.834167 (spent 0:00:03.282433)\n",
      "{'item_alpha': 0.5, 'learning_rate': 0.1, 'loss': 'warp', 'max_sampled': 15, 'no_components': 10, 'user_alpha': 0, 'precision_at_k': 0.0036180906}\n",
      "Iteration 282 from 288 2022-03-05 14:44:37.121441 (spent 0:00:03.287274)\n",
      "{'item_alpha': 0.5, 'learning_rate': 0.1, 'loss': 'warp', 'max_sampled': 15, 'no_components': 10, 'user_alpha': 0.5, 'precision_at_k': 0.00050251256}\n",
      "Iteration 283 from 288 2022-03-05 14:44:42.243752 (spent 0:00:05.122311)\n",
      "{'item_alpha': 0.5, 'learning_rate': 0.1, 'loss': 'warp', 'max_sampled': 15, 'no_components': 20, 'user_alpha': 0, 'precision_at_k': 0.0111557795}\n",
      "Iteration 284 from 288 2022-03-05 14:44:47.370097 (spent 0:00:05.126345)\n",
      "{'item_alpha': 0.5, 'learning_rate': 0.1, 'loss': 'warp', 'max_sampled': 15, 'no_components': 20, 'user_alpha': 0.5, 'precision_at_k': 0.014070352}\n",
      "Iteration 285 from 288 2022-03-05 14:44:56.219183 (spent 0:00:08.848124)\n",
      "{'item_alpha': 0.5, 'learning_rate': 0.1, 'loss': 'warp', 'max_sampled': 15, 'no_components': 40, 'user_alpha': 0, 'precision_at_k': 0.011256282}\n",
      "Iteration 286 from 288 2022-03-05 14:45:04.995971 (spent 0:00:08.776788)\n",
      "{'item_alpha': 0.5, 'learning_rate': 0.1, 'loss': 'warp', 'max_sampled': 15, 'no_components': 40, 'user_alpha': 0.5, 'precision_at_k': 0.011758795}\n",
      "Iteration 287 from 288 2022-03-05 14:45:18.176515 (spent 0:00:13.179567)\n",
      "{'item_alpha': 0.5, 'learning_rate': 0.1, 'loss': 'warp', 'max_sampled': 15, 'no_components': 64, 'user_alpha': 0, 'precision_at_k': 0.011557789}\n",
      "Iteration 288 from 288 2022-03-05 14:45:31.367144 (spent 0:00:13.190629)\n",
      "{'item_alpha': 0.5, 'learning_rate': 0.1, 'loss': 'warp', 'max_sampled': 15, 'no_components': 64, 'user_alpha': 0.5, 'precision_at_k': 0.013869348}\n"
     ]
    }
   ],
   "source": [
    "param_grid = {\n",
    "    'no_components': [10, 20, 40, 64],\n",
    "    'loss': ['bpr', 'warp'],\n",
    "    'learning_rate': [0.01, 0.05, 0.1], \n",
    "    'item_alpha': [0, 0.5],\n",
    "    'user_alpha': [0, 0.5],\n",
    "    'max_sampled': [ 5, 10, 15 ],\n",
    "}\n",
    "\n",
    "results = grid_search(param_grid)"
   ]
  },
  {
   "cell_type": "code",
   "execution_count": 75,
   "metadata": {
    "scrolled": false
   },
   "outputs": [
    {
     "data": {
      "text/html": [
       "<div>\n",
       "<style scoped>\n",
       "    .dataframe tbody tr th:only-of-type {\n",
       "        vertical-align: middle;\n",
       "    }\n",
       "\n",
       "    .dataframe tbody tr th {\n",
       "        vertical-align: top;\n",
       "    }\n",
       "\n",
       "    .dataframe thead th {\n",
       "        text-align: right;\n",
       "    }\n",
       "</style>\n",
       "<table border=\"1\" class=\"dataframe\">\n",
       "  <thead>\n",
       "    <tr style=\"text-align: right;\">\n",
       "      <th></th>\n",
       "      <th>item_alpha</th>\n",
       "      <th>learning_rate</th>\n",
       "      <th>loss</th>\n",
       "      <th>max_sampled</th>\n",
       "      <th>no_components</th>\n",
       "      <th>user_alpha</th>\n",
       "      <th>precision_at_k</th>\n",
       "    </tr>\n",
       "  </thead>\n",
       "  <tbody>\n",
       "    <tr>\n",
       "      <th>260</th>\n",
       "      <td>0.5</td>\n",
       "      <td>0.10</td>\n",
       "      <td>bpr</td>\n",
       "      <td>15</td>\n",
       "      <td>20</td>\n",
       "      <td>0.5</td>\n",
       "      <td>0.015779</td>\n",
       "    </tr>\n",
       "    <tr>\n",
       "      <th>252</th>\n",
       "      <td>0.5</td>\n",
       "      <td>0.10</td>\n",
       "      <td>bpr</td>\n",
       "      <td>10</td>\n",
       "      <td>20</td>\n",
       "      <td>0.5</td>\n",
       "      <td>0.015779</td>\n",
       "    </tr>\n",
       "    <tr>\n",
       "      <th>244</th>\n",
       "      <td>0.5</td>\n",
       "      <td>0.10</td>\n",
       "      <td>bpr</td>\n",
       "      <td>5</td>\n",
       "      <td>20</td>\n",
       "      <td>0.5</td>\n",
       "      <td>0.015779</td>\n",
       "    </tr>\n",
       "    <tr>\n",
       "      <th>284</th>\n",
       "      <td>0.5</td>\n",
       "      <td>0.10</td>\n",
       "      <td>warp</td>\n",
       "      <td>15</td>\n",
       "      <td>20</td>\n",
       "      <td>0.5</td>\n",
       "      <td>0.014070</td>\n",
       "    </tr>\n",
       "    <tr>\n",
       "      <th>288</th>\n",
       "      <td>0.5</td>\n",
       "      <td>0.10</td>\n",
       "      <td>warp</td>\n",
       "      <td>15</td>\n",
       "      <td>64</td>\n",
       "      <td>0.5</td>\n",
       "      <td>0.013869</td>\n",
       "    </tr>\n",
       "    <tr>\n",
       "      <th>...</th>\n",
       "      <td>...</td>\n",
       "      <td>...</td>\n",
       "      <td>...</td>\n",
       "      <td>...</td>\n",
       "      <td>...</td>\n",
       "      <td>...</td>\n",
       "      <td>...</td>\n",
       "    </tr>\n",
       "    <tr>\n",
       "      <th>92</th>\n",
       "      <td>0.0</td>\n",
       "      <td>0.05</td>\n",
       "      <td>warp</td>\n",
       "      <td>15</td>\n",
       "      <td>20</td>\n",
       "      <td>0.5</td>\n",
       "      <td>0.000804</td>\n",
       "    </tr>\n",
       "    <tr>\n",
       "      <th>36</th>\n",
       "      <td>0.0</td>\n",
       "      <td>0.01</td>\n",
       "      <td>warp</td>\n",
       "      <td>10</td>\n",
       "      <td>20</td>\n",
       "      <td>0.5</td>\n",
       "      <td>0.000804</td>\n",
       "    </tr>\n",
       "    <tr>\n",
       "      <th>186</th>\n",
       "      <td>0.5</td>\n",
       "      <td>0.01</td>\n",
       "      <td>warp</td>\n",
       "      <td>15</td>\n",
       "      <td>10</td>\n",
       "      <td>0.5</td>\n",
       "      <td>0.000603</td>\n",
       "    </tr>\n",
       "    <tr>\n",
       "      <th>282</th>\n",
       "      <td>0.5</td>\n",
       "      <td>0.10</td>\n",
       "      <td>warp</td>\n",
       "      <td>15</td>\n",
       "      <td>10</td>\n",
       "      <td>0.5</td>\n",
       "      <td>0.000503</td>\n",
       "    </tr>\n",
       "    <tr>\n",
       "      <th>173</th>\n",
       "      <td>0.5</td>\n",
       "      <td>0.01</td>\n",
       "      <td>warp</td>\n",
       "      <td>5</td>\n",
       "      <td>40</td>\n",
       "      <td>0.0</td>\n",
       "      <td>0.000503</td>\n",
       "    </tr>\n",
       "  </tbody>\n",
       "</table>\n",
       "<p>288 rows × 7 columns</p>\n",
       "</div>"
      ],
      "text/plain": [
       "     item_alpha  learning_rate  loss  max_sampled  no_components  user_alpha  \\\n",
       "260         0.5           0.10   bpr           15             20         0.5   \n",
       "252         0.5           0.10   bpr           10             20         0.5   \n",
       "244         0.5           0.10   bpr            5             20         0.5   \n",
       "284         0.5           0.10  warp           15             20         0.5   \n",
       "288         0.5           0.10  warp           15             64         0.5   \n",
       "..          ...            ...   ...          ...            ...         ...   \n",
       "92          0.0           0.05  warp           15             20         0.5   \n",
       "36          0.0           0.01  warp           10             20         0.5   \n",
       "186         0.5           0.01  warp           15             10         0.5   \n",
       "282         0.5           0.10  warp           15             10         0.5   \n",
       "173         0.5           0.01  warp            5             40         0.0   \n",
       "\n",
       "     precision_at_k  \n",
       "260        0.015779  \n",
       "252        0.015779  \n",
       "244        0.015779  \n",
       "284        0.014070  \n",
       "288        0.013869  \n",
       "..              ...  \n",
       "92         0.000804  \n",
       "36         0.000804  \n",
       "186        0.000603  \n",
       "282        0.000503  \n",
       "173        0.000503  \n",
       "\n",
       "[288 rows x 7 columns]"
      ]
     },
     "execution_count": 75,
     "metadata": {},
     "output_type": "execute_result"
    }
   ],
   "source": [
    "pd.DataFrame.from_dict(results, orient='index').sort_values(by='precision_at_k', ascending=False)"
   ]
  },
  {
   "cell_type": "markdown",
   "metadata": {},
   "source": [
    "При проведениии grid search была достигнута метрика 0.015779 при следующих параметрах:\n",
    "* no_components = 20\n",
    "* loss = bpr\n",
    "* learning_rate = 0.1\n",
    "* item_alpha = 0.5\n",
    "* user_alpha = 0.5\n",
    "* max_sampled = 15\n"
   ]
  },
  {
   "cell_type": "code",
   "execution_count": null,
   "metadata": {},
   "outputs": [],
   "source": []
  }
 ],
 "metadata": {
  "kernelspec": {
   "display_name": "Python 3",
   "language": "python",
   "name": "python3"
  },
  "language_info": {
   "codemirror_mode": {
    "name": "ipython",
    "version": 3
   },
   "file_extension": ".py",
   "mimetype": "text/x-python",
   "name": "python",
   "nbconvert_exporter": "python",
   "pygments_lexer": "ipython3",
   "version": "3.8.8"
  }
 },
 "nbformat": 4,
 "nbformat_minor": 2
}
